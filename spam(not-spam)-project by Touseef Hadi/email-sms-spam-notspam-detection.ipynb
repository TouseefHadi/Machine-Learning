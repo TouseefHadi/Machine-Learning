{
 "cells": [
  {
   "cell_type": "code",
   "execution_count": 1,
   "id": "bccd91d0",
   "metadata": {},
   "outputs": [],
   "source": [
    "##Libraries and classifiers all are collected from SCIKIT LEARN website\n",
    "import numpy as np\n",
    "import pandas as pd\n",
    "import matplotlib.pyplot as plt\n",
    "import seaborn as sns"
   ]
  },
  {
   "cell_type": "code",
   "execution_count": null,
   "id": "d46880b9",
   "metadata": {},
   "outputs": [],
   "source": [
    "##Collection of Data (Data had been colleced from kaggle)##"
   ]
  },
  {
   "cell_type": "markdown",
   "id": "df2a713d",
   "metadata": {},
   "source": [
    "# 1st_step: Loading of Data"
   ]
  },
  {
   "cell_type": "code",
   "execution_count": 2,
   "id": "812e6134",
   "metadata": {},
   "outputs": [],
   "source": [
    "#here encoder is latin-1 because csv file contain some characters that is compatible with the latin-1 encoding\n",
    "df = pd.read_csv('spam.csv', encoding='latin-1')"
   ]
  },
  {
   "cell_type": "code",
   "execution_count": 3,
   "id": "052478ca",
   "metadata": {},
   "outputs": [
    {
     "data": {
      "text/html": [
       "<div>\n",
       "<style scoped>\n",
       "    .dataframe tbody tr th:only-of-type {\n",
       "        vertical-align: middle;\n",
       "    }\n",
       "\n",
       "    .dataframe tbody tr th {\n",
       "        vertical-align: top;\n",
       "    }\n",
       "\n",
       "    .dataframe thead th {\n",
       "        text-align: right;\n",
       "    }\n",
       "</style>\n",
       "<table border=\"1\" class=\"dataframe\">\n",
       "  <thead>\n",
       "    <tr style=\"text-align: right;\">\n",
       "      <th></th>\n",
       "      <th>v1</th>\n",
       "      <th>v2</th>\n",
       "      <th>Unnamed: 2</th>\n",
       "      <th>Unnamed: 3</th>\n",
       "      <th>Unnamed: 4</th>\n",
       "    </tr>\n",
       "  </thead>\n",
       "  <tbody>\n",
       "    <tr>\n",
       "      <th>227</th>\n",
       "      <td>ham</td>\n",
       "      <td>Hey company elama po mudyadhu.</td>\n",
       "      <td>NaN</td>\n",
       "      <td>NaN</td>\n",
       "      <td>NaN</td>\n",
       "    </tr>\n",
       "    <tr>\n",
       "      <th>2635</th>\n",
       "      <td>ham</td>\n",
       "      <td>Tiwary to rcb.battle between bang and kochi.</td>\n",
       "      <td>NaN</td>\n",
       "      <td>NaN</td>\n",
       "      <td>NaN</td>\n",
       "    </tr>\n",
       "    <tr>\n",
       "      <th>2802</th>\n",
       "      <td>spam</td>\n",
       "      <td>FreeMsg&gt;FAV XMAS TONES!Reply REAL</td>\n",
       "      <td>NaN</td>\n",
       "      <td>NaN</td>\n",
       "      <td>NaN</td>\n",
       "    </tr>\n",
       "    <tr>\n",
       "      <th>586</th>\n",
       "      <td>ham</td>\n",
       "      <td>I dun thk i'll quit yet... Hmmm, can go jazz ?...</td>\n",
       "      <td>NaN</td>\n",
       "      <td>NaN</td>\n",
       "      <td>NaN</td>\n",
       "    </tr>\n",
       "    <tr>\n",
       "      <th>1477</th>\n",
       "      <td>ham</td>\n",
       "      <td>Why you keeping me away like this</td>\n",
       "      <td>NaN</td>\n",
       "      <td>NaN</td>\n",
       "      <td>NaN</td>\n",
       "    </tr>\n",
       "    <tr>\n",
       "      <th>3036</th>\n",
       "      <td>ham</td>\n",
       "      <td>Cos darren say Ì_ considering mah so i ask Ì_...</td>\n",
       "      <td>NaN</td>\n",
       "      <td>NaN</td>\n",
       "      <td>NaN</td>\n",
       "    </tr>\n",
       "    <tr>\n",
       "      <th>3298</th>\n",
       "      <td>ham</td>\n",
       "      <td>Honeybee Said: *I'm d Sweetest in d World* God...</td>\n",
       "      <td>NaN</td>\n",
       "      <td>NaN</td>\n",
       "      <td>NaN</td>\n",
       "    </tr>\n",
       "    <tr>\n",
       "      <th>2182</th>\n",
       "      <td>ham</td>\n",
       "      <td>PS U no ur a grown up now right?</td>\n",
       "      <td>NaN</td>\n",
       "      <td>NaN</td>\n",
       "      <td>NaN</td>\n",
       "    </tr>\n",
       "    <tr>\n",
       "      <th>5452</th>\n",
       "      <td>ham</td>\n",
       "      <td>What???? Hello wats talks email address?</td>\n",
       "      <td>NaN</td>\n",
       "      <td>NaN</td>\n",
       "      <td>NaN</td>\n",
       "    </tr>\n",
       "    <tr>\n",
       "      <th>2785</th>\n",
       "      <td>ham</td>\n",
       "      <td>Yeah get the unlimited</td>\n",
       "      <td>NaN</td>\n",
       "      <td>NaN</td>\n",
       "      <td>NaN</td>\n",
       "    </tr>\n",
       "  </tbody>\n",
       "</table>\n",
       "</div>"
      ],
      "text/plain": [
       "        v1                                                 v2 Unnamed: 2  \\\n",
       "227    ham                     Hey company elama po mudyadhu.        NaN   \n",
       "2635   ham       Tiwary to rcb.battle between bang and kochi.        NaN   \n",
       "2802  spam                  FreeMsg>FAV XMAS TONES!Reply REAL        NaN   \n",
       "586    ham  I dun thk i'll quit yet... Hmmm, can go jazz ?...        NaN   \n",
       "1477   ham                  Why you keeping me away like this        NaN   \n",
       "3036   ham   Cos darren say Ì_ considering mah so i ask Ì_...        NaN   \n",
       "3298   ham  Honeybee Said: *I'm d Sweetest in d World* God...        NaN   \n",
       "2182   ham                   PS U no ur a grown up now right?        NaN   \n",
       "5452   ham           What???? Hello wats talks email address?        NaN   \n",
       "2785   ham                             Yeah get the unlimited        NaN   \n",
       "\n",
       "     Unnamed: 3 Unnamed: 4  \n",
       "227         NaN        NaN  \n",
       "2635        NaN        NaN  \n",
       "2802        NaN        NaN  \n",
       "586         NaN        NaN  \n",
       "1477        NaN        NaN  \n",
       "3036        NaN        NaN  \n",
       "3298        NaN        NaN  \n",
       "2182        NaN        NaN  \n",
       "5452        NaN        NaN  \n",
       "2785        NaN        NaN  "
      ]
     },
     "execution_count": 3,
     "metadata": {},
     "output_type": "execute_result"
    }
   ],
   "source": [
    "#See the first 10 random rows from the csv file\n",
    "df.sample(10)"
   ]
  },
  {
   "cell_type": "markdown",
   "id": "3f7fe50c",
   "metadata": {},
   "source": [
    "# 2nd_step: Pre-Processing Data"
   ]
  },
  {
   "cell_type": "code",
   "execution_count": 4,
   "id": "c1427c34",
   "metadata": {},
   "outputs": [
    {
     "data": {
      "text/plain": [
       "(5572, 5)"
      ]
     },
     "execution_count": 4,
     "metadata": {},
     "output_type": "execute_result"
    }
   ],
   "source": [
    "#Shpae of the data set in number of rows and colomns\n",
    "df.shape"
   ]
  },
  {
   "cell_type": "code",
   "execution_count": 5,
   "id": "b65fb4d6",
   "metadata": {},
   "outputs": [],
   "source": [
    "## Steps to be taken to solve this Problem##########\n",
    "# 1. Data cleaning (Pre-processing)\n",
    "# 2. Data analysis (pre-processing)\n",
    "# 3. Text Preprocessing\n",
    "# 4. Model building (selection of model (Algorithm))\n",
    "# 5. Evaluation (Finding accuracy)\n",
    "# 6. Improvement (parameters tuning)\n",
    "# 7. Website (firts create on local host)\n",
    "# 8. Deploy (globally created on heroku)"
   ]
  },
  {
   "cell_type": "code",
   "execution_count": 6,
   "id": "1c39b8b2",
   "metadata": {},
   "outputs": [
    {
     "data": {
      "text/html": [
       "<div>\n",
       "<style scoped>\n",
       "    .dataframe tbody tr th:only-of-type {\n",
       "        vertical-align: middle;\n",
       "    }\n",
       "\n",
       "    .dataframe tbody tr th {\n",
       "        vertical-align: top;\n",
       "    }\n",
       "\n",
       "    .dataframe thead th {\n",
       "        text-align: right;\n",
       "    }\n",
       "</style>\n",
       "<table border=\"1\" class=\"dataframe\">\n",
       "  <thead>\n",
       "    <tr style=\"text-align: right;\">\n",
       "      <th></th>\n",
       "      <th>v1</th>\n",
       "      <th>v2</th>\n",
       "      <th>Unnamed: 2</th>\n",
       "      <th>Unnamed: 3</th>\n",
       "      <th>Unnamed: 4</th>\n",
       "    </tr>\n",
       "  </thead>\n",
       "  <tbody>\n",
       "    <tr>\n",
       "      <th>0</th>\n",
       "      <td>ham</td>\n",
       "      <td>Go until jurong point, crazy.. Available only ...</td>\n",
       "      <td>NaN</td>\n",
       "      <td>NaN</td>\n",
       "      <td>NaN</td>\n",
       "    </tr>\n",
       "    <tr>\n",
       "      <th>1</th>\n",
       "      <td>ham</td>\n",
       "      <td>Ok lar... Joking wif u oni...</td>\n",
       "      <td>NaN</td>\n",
       "      <td>NaN</td>\n",
       "      <td>NaN</td>\n",
       "    </tr>\n",
       "    <tr>\n",
       "      <th>2</th>\n",
       "      <td>spam</td>\n",
       "      <td>Free entry in 2 a wkly comp to win FA Cup fina...</td>\n",
       "      <td>NaN</td>\n",
       "      <td>NaN</td>\n",
       "      <td>NaN</td>\n",
       "    </tr>\n",
       "    <tr>\n",
       "      <th>3</th>\n",
       "      <td>ham</td>\n",
       "      <td>U dun say so early hor... U c already then say...</td>\n",
       "      <td>NaN</td>\n",
       "      <td>NaN</td>\n",
       "      <td>NaN</td>\n",
       "    </tr>\n",
       "    <tr>\n",
       "      <th>4</th>\n",
       "      <td>ham</td>\n",
       "      <td>Nah I don't think he goes to usf, he lives aro...</td>\n",
       "      <td>NaN</td>\n",
       "      <td>NaN</td>\n",
       "      <td>NaN</td>\n",
       "    </tr>\n",
       "    <tr>\n",
       "      <th>5</th>\n",
       "      <td>spam</td>\n",
       "      <td>FreeMsg Hey there darling it's been 3 week's n...</td>\n",
       "      <td>NaN</td>\n",
       "      <td>NaN</td>\n",
       "      <td>NaN</td>\n",
       "    </tr>\n",
       "    <tr>\n",
       "      <th>6</th>\n",
       "      <td>ham</td>\n",
       "      <td>Even my brother is not like to speak with me. ...</td>\n",
       "      <td>NaN</td>\n",
       "      <td>NaN</td>\n",
       "      <td>NaN</td>\n",
       "    </tr>\n",
       "    <tr>\n",
       "      <th>7</th>\n",
       "      <td>ham</td>\n",
       "      <td>As per your request 'Melle Melle (Oru Minnamin...</td>\n",
       "      <td>NaN</td>\n",
       "      <td>NaN</td>\n",
       "      <td>NaN</td>\n",
       "    </tr>\n",
       "    <tr>\n",
       "      <th>8</th>\n",
       "      <td>spam</td>\n",
       "      <td>WINNER!! As a valued network customer you have...</td>\n",
       "      <td>NaN</td>\n",
       "      <td>NaN</td>\n",
       "      <td>NaN</td>\n",
       "    </tr>\n",
       "    <tr>\n",
       "      <th>9</th>\n",
       "      <td>spam</td>\n",
       "      <td>Had your mobile 11 months or more? U R entitle...</td>\n",
       "      <td>NaN</td>\n",
       "      <td>NaN</td>\n",
       "      <td>NaN</td>\n",
       "    </tr>\n",
       "  </tbody>\n",
       "</table>\n",
       "</div>"
      ],
      "text/plain": [
       "     v1                                                 v2 Unnamed: 2  \\\n",
       "0   ham  Go until jurong point, crazy.. Available only ...        NaN   \n",
       "1   ham                      Ok lar... Joking wif u oni...        NaN   \n",
       "2  spam  Free entry in 2 a wkly comp to win FA Cup fina...        NaN   \n",
       "3   ham  U dun say so early hor... U c already then say...        NaN   \n",
       "4   ham  Nah I don't think he goes to usf, he lives aro...        NaN   \n",
       "5  spam  FreeMsg Hey there darling it's been 3 week's n...        NaN   \n",
       "6   ham  Even my brother is not like to speak with me. ...        NaN   \n",
       "7   ham  As per your request 'Melle Melle (Oru Minnamin...        NaN   \n",
       "8  spam  WINNER!! As a valued network customer you have...        NaN   \n",
       "9  spam  Had your mobile 11 months or more? U R entitle...        NaN   \n",
       "\n",
       "  Unnamed: 3 Unnamed: 4  \n",
       "0        NaN        NaN  \n",
       "1        NaN        NaN  \n",
       "2        NaN        NaN  \n",
       "3        NaN        NaN  \n",
       "4        NaN        NaN  \n",
       "5        NaN        NaN  \n",
       "6        NaN        NaN  \n",
       "7        NaN        NaN  \n",
       "8        NaN        NaN  \n",
       "9        NaN        NaN  "
      ]
     },
     "execution_count": 6,
     "metadata": {},
     "output_type": "execute_result"
    }
   ],
   "source": [
    "#check first 10 rows to focus on last 3 cols\n",
    "df.head(10)"
   ]
  },
  {
   "cell_type": "code",
   "execution_count": 7,
   "id": "6e681679",
   "metadata": {},
   "outputs": [
    {
     "data": {
      "text/html": [
       "<div>\n",
       "<style scoped>\n",
       "    .dataframe tbody tr th:only-of-type {\n",
       "        vertical-align: middle;\n",
       "    }\n",
       "\n",
       "    .dataframe tbody tr th {\n",
       "        vertical-align: top;\n",
       "    }\n",
       "\n",
       "    .dataframe thead th {\n",
       "        text-align: right;\n",
       "    }\n",
       "</style>\n",
       "<table border=\"1\" class=\"dataframe\">\n",
       "  <thead>\n",
       "    <tr style=\"text-align: right;\">\n",
       "      <th></th>\n",
       "      <th>v1</th>\n",
       "      <th>v2</th>\n",
       "      <th>Unnamed: 2</th>\n",
       "      <th>Unnamed: 3</th>\n",
       "      <th>Unnamed: 4</th>\n",
       "    </tr>\n",
       "  </thead>\n",
       "  <tbody>\n",
       "    <tr>\n",
       "      <th>5562</th>\n",
       "      <td>ham</td>\n",
       "      <td>Ok lor... Sony ericsson salesman... I ask shuh...</td>\n",
       "      <td>NaN</td>\n",
       "      <td>NaN</td>\n",
       "      <td>NaN</td>\n",
       "    </tr>\n",
       "    <tr>\n",
       "      <th>5563</th>\n",
       "      <td>ham</td>\n",
       "      <td>Ard 6 like dat lor.</td>\n",
       "      <td>NaN</td>\n",
       "      <td>NaN</td>\n",
       "      <td>NaN</td>\n",
       "    </tr>\n",
       "    <tr>\n",
       "      <th>5564</th>\n",
       "      <td>ham</td>\n",
       "      <td>Why don't you wait 'til at least wednesday to ...</td>\n",
       "      <td>NaN</td>\n",
       "      <td>NaN</td>\n",
       "      <td>NaN</td>\n",
       "    </tr>\n",
       "    <tr>\n",
       "      <th>5565</th>\n",
       "      <td>ham</td>\n",
       "      <td>Huh y lei...</td>\n",
       "      <td>NaN</td>\n",
       "      <td>NaN</td>\n",
       "      <td>NaN</td>\n",
       "    </tr>\n",
       "    <tr>\n",
       "      <th>5566</th>\n",
       "      <td>spam</td>\n",
       "      <td>REMINDER FROM O2: To get 2.50 pounds free call...</td>\n",
       "      <td>NaN</td>\n",
       "      <td>NaN</td>\n",
       "      <td>NaN</td>\n",
       "    </tr>\n",
       "    <tr>\n",
       "      <th>5567</th>\n",
       "      <td>spam</td>\n",
       "      <td>This is the 2nd time we have tried 2 contact u...</td>\n",
       "      <td>NaN</td>\n",
       "      <td>NaN</td>\n",
       "      <td>NaN</td>\n",
       "    </tr>\n",
       "    <tr>\n",
       "      <th>5568</th>\n",
       "      <td>ham</td>\n",
       "      <td>Will Ì_ b going to esplanade fr home?</td>\n",
       "      <td>NaN</td>\n",
       "      <td>NaN</td>\n",
       "      <td>NaN</td>\n",
       "    </tr>\n",
       "    <tr>\n",
       "      <th>5569</th>\n",
       "      <td>ham</td>\n",
       "      <td>Pity, * was in mood for that. So...any other s...</td>\n",
       "      <td>NaN</td>\n",
       "      <td>NaN</td>\n",
       "      <td>NaN</td>\n",
       "    </tr>\n",
       "    <tr>\n",
       "      <th>5570</th>\n",
       "      <td>ham</td>\n",
       "      <td>The guy did some bitching but I acted like i'd...</td>\n",
       "      <td>NaN</td>\n",
       "      <td>NaN</td>\n",
       "      <td>NaN</td>\n",
       "    </tr>\n",
       "    <tr>\n",
       "      <th>5571</th>\n",
       "      <td>ham</td>\n",
       "      <td>Rofl. Its true to its name</td>\n",
       "      <td>NaN</td>\n",
       "      <td>NaN</td>\n",
       "      <td>NaN</td>\n",
       "    </tr>\n",
       "  </tbody>\n",
       "</table>\n",
       "</div>"
      ],
      "text/plain": [
       "        v1                                                 v2 Unnamed: 2  \\\n",
       "5562   ham  Ok lor... Sony ericsson salesman... I ask shuh...        NaN   \n",
       "5563   ham                                Ard 6 like dat lor.        NaN   \n",
       "5564   ham  Why don't you wait 'til at least wednesday to ...        NaN   \n",
       "5565   ham                                       Huh y lei...        NaN   \n",
       "5566  spam  REMINDER FROM O2: To get 2.50 pounds free call...        NaN   \n",
       "5567  spam  This is the 2nd time we have tried 2 contact u...        NaN   \n",
       "5568   ham              Will Ì_ b going to esplanade fr home?        NaN   \n",
       "5569   ham  Pity, * was in mood for that. So...any other s...        NaN   \n",
       "5570   ham  The guy did some bitching but I acted like i'd...        NaN   \n",
       "5571   ham                         Rofl. Its true to its name        NaN   \n",
       "\n",
       "     Unnamed: 3 Unnamed: 4  \n",
       "5562        NaN        NaN  \n",
       "5563        NaN        NaN  \n",
       "5564        NaN        NaN  \n",
       "5565        NaN        NaN  \n",
       "5566        NaN        NaN  \n",
       "5567        NaN        NaN  \n",
       "5568        NaN        NaN  \n",
       "5569        NaN        NaN  \n",
       "5570        NaN        NaN  \n",
       "5571        NaN        NaN  "
      ]
     },
     "execution_count": 7,
     "metadata": {},
     "output_type": "execute_result"
    }
   ],
   "source": [
    "#check last 10 rows to focus on last 3 cols, so this menas that many values are NAN (Not a number) in last 3 columns\n",
    "df.tail(10)"
   ]
  },
  {
   "cell_type": "code",
   "execution_count": 8,
   "id": "10092918",
   "metadata": {},
   "outputs": [
    {
     "name": "stdout",
     "output_type": "stream",
     "text": [
      "<class 'pandas.core.frame.DataFrame'>\n",
      "RangeIndex: 5572 entries, 0 to 5571\n",
      "Data columns (total 5 columns):\n",
      " #   Column      Non-Null Count  Dtype \n",
      "---  ------      --------------  ----- \n",
      " 0   v1          5572 non-null   object\n",
      " 1   v2          5572 non-null   object\n",
      " 2   Unnamed: 2  50 non-null     object\n",
      " 3   Unnamed: 3  12 non-null     object\n",
      " 4   Unnamed: 4  6 non-null      object\n",
      "dtypes: object(5)\n",
      "memory usage: 217.8+ KB\n"
     ]
    }
   ],
   "source": [
    "#Get information about the data about colomn, how many null not null values and also which type pf data numerical or catagorical\n",
    "df.info()"
   ]
  },
  {
   "cell_type": "code",
   "execution_count": 9,
   "id": "bc81de52",
   "metadata": {},
   "outputs": [],
   "source": [
    "# drop last 3 columns because most of the values are missing and inplace true because we want permanant changes in file (deleting clos)\n",
    "df.drop(columns=['Unnamed: 2','Unnamed: 3','Unnamed: 4'],inplace=True)"
   ]
  },
  {
   "cell_type": "code",
   "execution_count": 10,
   "id": "09fec4a3",
   "metadata": {},
   "outputs": [
    {
     "data": {
      "text/html": [
       "<div>\n",
       "<style scoped>\n",
       "    .dataframe tbody tr th:only-of-type {\n",
       "        vertical-align: middle;\n",
       "    }\n",
       "\n",
       "    .dataframe tbody tr th {\n",
       "        vertical-align: top;\n",
       "    }\n",
       "\n",
       "    .dataframe thead th {\n",
       "        text-align: right;\n",
       "    }\n",
       "</style>\n",
       "<table border=\"1\" class=\"dataframe\">\n",
       "  <thead>\n",
       "    <tr style=\"text-align: right;\">\n",
       "      <th></th>\n",
       "      <th>v1</th>\n",
       "      <th>v2</th>\n",
       "    </tr>\n",
       "  </thead>\n",
       "  <tbody>\n",
       "    <tr>\n",
       "      <th>4787</th>\n",
       "      <td>ham</td>\n",
       "      <td>Thanx. Yup we coming back on sun. Finish dinne...</td>\n",
       "    </tr>\n",
       "    <tr>\n",
       "      <th>3761</th>\n",
       "      <td>spam</td>\n",
       "      <td>FREE for 1st week! No1 Nokia tone 4 ur mob eve...</td>\n",
       "    </tr>\n",
       "    <tr>\n",
       "      <th>1180</th>\n",
       "      <td>ham</td>\n",
       "      <td>I'm in chennai velachery:)</td>\n",
       "    </tr>\n",
       "    <tr>\n",
       "      <th>2506</th>\n",
       "      <td>ham</td>\n",
       "      <td>Who u talking about?</td>\n",
       "    </tr>\n",
       "    <tr>\n",
       "      <th>4655</th>\n",
       "      <td>ham</td>\n",
       "      <td>K, I'll work something out</td>\n",
       "    </tr>\n",
       "    <tr>\n",
       "      <th>2918</th>\n",
       "      <td>ham</td>\n",
       "      <td>Is xy in ur car when u picking me up?</td>\n",
       "    </tr>\n",
       "    <tr>\n",
       "      <th>1327</th>\n",
       "      <td>spam</td>\n",
       "      <td>Ur balance is now å£500. Ur next question is: ...</td>\n",
       "    </tr>\n",
       "    <tr>\n",
       "      <th>1526</th>\n",
       "      <td>ham</td>\n",
       "      <td>Wow ... I love you sooo much, you know ? I can...</td>\n",
       "    </tr>\n",
       "  </tbody>\n",
       "</table>\n",
       "</div>"
      ],
      "text/plain": [
       "        v1                                                 v2\n",
       "4787   ham  Thanx. Yup we coming back on sun. Finish dinne...\n",
       "3761  spam  FREE for 1st week! No1 Nokia tone 4 ur mob eve...\n",
       "1180   ham                         I'm in chennai velachery:)\n",
       "2506   ham                               Who u talking about?\n",
       "4655   ham                         K, I'll work something out\n",
       "2918   ham              Is xy in ur car when u picking me up?\n",
       "1327  spam  Ur balance is now å£500. Ur next question is: ...\n",
       "1526   ham  Wow ... I love you sooo much, you know ? I can..."
      ]
     },
     "execution_count": 10,
     "metadata": {},
     "output_type": "execute_result"
    }
   ],
   "source": [
    "#See the first 8 random rows from the csv file\n",
    "df.sample(8)"
   ]
  },
  {
   "cell_type": "code",
   "execution_count": 11,
   "id": "9c1261f7",
   "metadata": {},
   "outputs": [
    {
     "data": {
      "text/html": [
       "<div>\n",
       "<style scoped>\n",
       "    .dataframe tbody tr th:only-of-type {\n",
       "        vertical-align: middle;\n",
       "    }\n",
       "\n",
       "    .dataframe tbody tr th {\n",
       "        vertical-align: top;\n",
       "    }\n",
       "\n",
       "    .dataframe thead th {\n",
       "        text-align: right;\n",
       "    }\n",
       "</style>\n",
       "<table border=\"1\" class=\"dataframe\">\n",
       "  <thead>\n",
       "    <tr style=\"text-align: right;\">\n",
       "      <th></th>\n",
       "      <th>Target</th>\n",
       "      <th>Information</th>\n",
       "    </tr>\n",
       "  </thead>\n",
       "  <tbody>\n",
       "    <tr>\n",
       "      <th>2522</th>\n",
       "      <td>ham</td>\n",
       "      <td>Dunno lei... I might b eatin wif my frens... I...</td>\n",
       "    </tr>\n",
       "    <tr>\n",
       "      <th>5317</th>\n",
       "      <td>ham</td>\n",
       "      <td>K, fyi I'm back in my parents' place in south ...</td>\n",
       "    </tr>\n",
       "    <tr>\n",
       "      <th>5304</th>\n",
       "      <td>ham</td>\n",
       "      <td>Pls ask macho how much is budget for bb bold 2...</td>\n",
       "    </tr>\n",
       "    <tr>\n",
       "      <th>4175</th>\n",
       "      <td>ham</td>\n",
       "      <td>He's in lag. That's just the sad part but we k...</td>\n",
       "    </tr>\n",
       "    <tr>\n",
       "      <th>798</th>\n",
       "      <td>ham</td>\n",
       "      <td>Ok i msg u b4 i leave my house.</td>\n",
       "    </tr>\n",
       "    <tr>\n",
       "      <th>45</th>\n",
       "      <td>ham</td>\n",
       "      <td>No calls..messages..missed calls</td>\n",
       "    </tr>\n",
       "    <tr>\n",
       "      <th>3637</th>\n",
       "      <td>spam</td>\n",
       "      <td>Customer service announcement. We recently tri...</td>\n",
       "    </tr>\n",
       "    <tr>\n",
       "      <th>3294</th>\n",
       "      <td>ham</td>\n",
       "      <td>Dunno lei Ì_ all decide lor. How abt leona? Oo...</td>\n",
       "    </tr>\n",
       "  </tbody>\n",
       "</table>\n",
       "</div>"
      ],
      "text/plain": [
       "     Target                                        Information\n",
       "2522    ham  Dunno lei... I might b eatin wif my frens... I...\n",
       "5317    ham  K, fyi I'm back in my parents' place in south ...\n",
       "5304    ham  Pls ask macho how much is budget for bb bold 2...\n",
       "4175    ham  He's in lag. That's just the sad part but we k...\n",
       "798     ham                    Ok i msg u b4 i leave my house.\n",
       "45      ham                   No calls..messages..missed calls\n",
       "3637   spam  Customer service announcement. We recently tri...\n",
       "3294    ham  Dunno lei Ì_ all decide lor. How abt leona? Oo..."
      ]
     },
     "execution_count": 11,
     "metadata": {},
     "output_type": "execute_result"
    }
   ],
   "source": [
    "# Renaming the Columns to clearly describe the names and agian inplace is use for permanent changes\n",
    "df.rename(columns={'v1':'Target','v2':'Information'},inplace=True)\n",
    "df.sample(8)"
   ]
  },
  {
   "cell_type": "code",
   "execution_count": 12,
   "id": "c0d07fa4",
   "metadata": {},
   "outputs": [
    {
     "name": "stdout",
     "output_type": "stream",
     "text": [
      "The data type of the first row in column 'Target' is <class 'str'>\n"
     ]
    }
   ],
   "source": [
    "#Lets check that the Target column is number or string data type\n",
    "column_name = 'Target'\n",
    "first_row_value = df[column_name].iloc[0]\n",
    "data_type_first_row = type(first_row_value)\n",
    "print(f\"The data type of the first row in column '{column_name}' is {data_type_first_row}\")"
   ]
  },
  {
   "cell_type": "code",
   "execution_count": 13,
   "id": "30ffc454",
   "metadata": {},
   "outputs": [],
   "source": [
    "#use to convert string into numbers in the column like in Target column ( for ham = 0  &&&&  spam =1)\n",
    "from sklearn.preprocessing import LabelEncoder\n",
    "encoder = LabelEncoder()"
   ]
  },
  {
   "cell_type": "code",
   "execution_count": 14,
   "id": "a262dfc6",
   "metadata": {},
   "outputs": [],
   "source": [
    "df['Target'] = encoder.fit_transform(df['Target'])"
   ]
  },
  {
   "cell_type": "code",
   "execution_count": 15,
   "id": "49fd0d1f",
   "metadata": {},
   "outputs": [
    {
     "data": {
      "text/html": [
       "<div>\n",
       "<style scoped>\n",
       "    .dataframe tbody tr th:only-of-type {\n",
       "        vertical-align: middle;\n",
       "    }\n",
       "\n",
       "    .dataframe tbody tr th {\n",
       "        vertical-align: top;\n",
       "    }\n",
       "\n",
       "    .dataframe thead th {\n",
       "        text-align: right;\n",
       "    }\n",
       "</style>\n",
       "<table border=\"1\" class=\"dataframe\">\n",
       "  <thead>\n",
       "    <tr style=\"text-align: right;\">\n",
       "      <th></th>\n",
       "      <th>Target</th>\n",
       "      <th>Information</th>\n",
       "    </tr>\n",
       "  </thead>\n",
       "  <tbody>\n",
       "    <tr>\n",
       "      <th>0</th>\n",
       "      <td>0</td>\n",
       "      <td>Go until jurong point, crazy.. Available only ...</td>\n",
       "    </tr>\n",
       "    <tr>\n",
       "      <th>1</th>\n",
       "      <td>0</td>\n",
       "      <td>Ok lar... Joking wif u oni...</td>\n",
       "    </tr>\n",
       "    <tr>\n",
       "      <th>2</th>\n",
       "      <td>1</td>\n",
       "      <td>Free entry in 2 a wkly comp to win FA Cup fina...</td>\n",
       "    </tr>\n",
       "    <tr>\n",
       "      <th>3</th>\n",
       "      <td>0</td>\n",
       "      <td>U dun say so early hor... U c already then say...</td>\n",
       "    </tr>\n",
       "    <tr>\n",
       "      <th>4</th>\n",
       "      <td>0</td>\n",
       "      <td>Nah I don't think he goes to usf, he lives aro...</td>\n",
       "    </tr>\n",
       "    <tr>\n",
       "      <th>5</th>\n",
       "      <td>1</td>\n",
       "      <td>FreeMsg Hey there darling it's been 3 week's n...</td>\n",
       "    </tr>\n",
       "    <tr>\n",
       "      <th>6</th>\n",
       "      <td>0</td>\n",
       "      <td>Even my brother is not like to speak with me. ...</td>\n",
       "    </tr>\n",
       "    <tr>\n",
       "      <th>7</th>\n",
       "      <td>0</td>\n",
       "      <td>As per your request 'Melle Melle (Oru Minnamin...</td>\n",
       "    </tr>\n",
       "    <tr>\n",
       "      <th>8</th>\n",
       "      <td>1</td>\n",
       "      <td>WINNER!! As a valued network customer you have...</td>\n",
       "    </tr>\n",
       "    <tr>\n",
       "      <th>9</th>\n",
       "      <td>1</td>\n",
       "      <td>Had your mobile 11 months or more? U R entitle...</td>\n",
       "    </tr>\n",
       "  </tbody>\n",
       "</table>\n",
       "</div>"
      ],
      "text/plain": [
       "   Target                                        Information\n",
       "0       0  Go until jurong point, crazy.. Available only ...\n",
       "1       0                      Ok lar... Joking wif u oni...\n",
       "2       1  Free entry in 2 a wkly comp to win FA Cup fina...\n",
       "3       0  U dun say so early hor... U c already then say...\n",
       "4       0  Nah I don't think he goes to usf, he lives aro...\n",
       "5       1  FreeMsg Hey there darling it's been 3 week's n...\n",
       "6       0  Even my brother is not like to speak with me. ...\n",
       "7       0  As per your request 'Melle Melle (Oru Minnamin...\n",
       "8       1  WINNER!! As a valued network customer you have...\n",
       "9       1  Had your mobile 11 months or more? U R entitle..."
      ]
     },
     "execution_count": 15,
     "metadata": {},
     "output_type": "execute_result"
    }
   ],
   "source": [
    "df.head(10)"
   ]
  },
  {
   "cell_type": "code",
   "execution_count": 16,
   "id": "475ff415",
   "metadata": {},
   "outputs": [
    {
     "data": {
      "text/plain": [
       "403"
      ]
     },
     "execution_count": 16,
     "metadata": {},
     "output_type": "execute_result"
    }
   ],
   "source": [
    "# checking for the duplicate values\n",
    "df.duplicated().sum()"
   ]
  },
  {
   "cell_type": "code",
   "execution_count": 17,
   "id": "62fb746a",
   "metadata": {},
   "outputs": [],
   "source": [
    "# remove duplicates and consider the first value as origional value and the rest should drop\n",
    "df = df.drop_duplicates(keep='first')"
   ]
  },
  {
   "cell_type": "code",
   "execution_count": 18,
   "id": "3cd8eb9b",
   "metadata": {},
   "outputs": [
    {
     "data": {
      "text/plain": [
       "0"
      ]
     },
     "execution_count": 18,
     "metadata": {},
     "output_type": "execute_result"
    }
   ],
   "source": [
    "# checking again for the duplicate values and surely there will be no dublicate value\n",
    "df.duplicated().sum()"
   ]
  },
  {
   "cell_type": "code",
   "execution_count": 19,
   "id": "df944a6a",
   "metadata": {},
   "outputs": [
    {
     "data": {
      "text/plain": [
       "Target         0\n",
       "Information    0\n",
       "dtype: int64"
      ]
     },
     "execution_count": 19,
     "metadata": {},
     "output_type": "execute_result"
    }
   ],
   "source": [
    "# Check missing values\n",
    "df.isnull().sum()"
   ]
  },
  {
   "cell_type": "code",
   "execution_count": 20,
   "id": "91c4e005",
   "metadata": {},
   "outputs": [],
   "source": [
    "## Now we remove the dublicate values and also check for null value, as there no null value to to fill or remove from data set"
   ]
  },
  {
   "cell_type": "code",
   "execution_count": 21,
   "id": "0e972ae4",
   "metadata": {},
   "outputs": [
    {
     "data": {
      "text/plain": [
       "(5169, 2)"
      ]
     },
     "execution_count": 21,
     "metadata": {},
     "output_type": "execute_result"
    }
   ],
   "source": [
    "# now lets see the origional shape of csv file after the above preprocessing on the data (No.of rows and number of columns)\n",
    "df.shape"
   ]
  },
  {
   "cell_type": "code",
   "execution_count": 22,
   "id": "9a81a376",
   "metadata": {},
   "outputs": [
    {
     "data": {
      "text/html": [
       "<div>\n",
       "<style scoped>\n",
       "    .dataframe tbody tr th:only-of-type {\n",
       "        vertical-align: middle;\n",
       "    }\n",
       "\n",
       "    .dataframe tbody tr th {\n",
       "        vertical-align: top;\n",
       "    }\n",
       "\n",
       "    .dataframe thead th {\n",
       "        text-align: right;\n",
       "    }\n",
       "</style>\n",
       "<table border=\"1\" class=\"dataframe\">\n",
       "  <thead>\n",
       "    <tr style=\"text-align: right;\">\n",
       "      <th></th>\n",
       "      <th>Target</th>\n",
       "      <th>Information</th>\n",
       "    </tr>\n",
       "  </thead>\n",
       "  <tbody>\n",
       "    <tr>\n",
       "      <th>0</th>\n",
       "      <td>0</td>\n",
       "      <td>Go until jurong point, crazy.. Available only ...</td>\n",
       "    </tr>\n",
       "    <tr>\n",
       "      <th>1</th>\n",
       "      <td>0</td>\n",
       "      <td>Ok lar... Joking wif u oni...</td>\n",
       "    </tr>\n",
       "    <tr>\n",
       "      <th>2</th>\n",
       "      <td>1</td>\n",
       "      <td>Free entry in 2 a wkly comp to win FA Cup fina...</td>\n",
       "    </tr>\n",
       "    <tr>\n",
       "      <th>3</th>\n",
       "      <td>0</td>\n",
       "      <td>U dun say so early hor... U c already then say...</td>\n",
       "    </tr>\n",
       "    <tr>\n",
       "      <th>4</th>\n",
       "      <td>0</td>\n",
       "      <td>Nah I don't think he goes to usf, he lives aro...</td>\n",
       "    </tr>\n",
       "    <tr>\n",
       "      <th>5</th>\n",
       "      <td>1</td>\n",
       "      <td>FreeMsg Hey there darling it's been 3 week's n...</td>\n",
       "    </tr>\n",
       "    <tr>\n",
       "      <th>6</th>\n",
       "      <td>0</td>\n",
       "      <td>Even my brother is not like to speak with me. ...</td>\n",
       "    </tr>\n",
       "    <tr>\n",
       "      <th>7</th>\n",
       "      <td>0</td>\n",
       "      <td>As per your request 'Melle Melle (Oru Minnamin...</td>\n",
       "    </tr>\n",
       "    <tr>\n",
       "      <th>8</th>\n",
       "      <td>1</td>\n",
       "      <td>WINNER!! As a valued network customer you have...</td>\n",
       "    </tr>\n",
       "    <tr>\n",
       "      <th>9</th>\n",
       "      <td>1</td>\n",
       "      <td>Had your mobile 11 months or more? U R entitle...</td>\n",
       "    </tr>\n",
       "  </tbody>\n",
       "</table>\n",
       "</div>"
      ],
      "text/plain": [
       "   Target                                        Information\n",
       "0       0  Go until jurong point, crazy.. Available only ...\n",
       "1       0                      Ok lar... Joking wif u oni...\n",
       "2       1  Free entry in 2 a wkly comp to win FA Cup fina...\n",
       "3       0  U dun say so early hor... U c already then say...\n",
       "4       0  Nah I don't think he goes to usf, he lives aro...\n",
       "5       1  FreeMsg Hey there darling it's been 3 week's n...\n",
       "6       0  Even my brother is not like to speak with me. ...\n",
       "7       0  As per your request 'Melle Melle (Oru Minnamin...\n",
       "8       1  WINNER!! As a valued network customer you have...\n",
       "9       1  Had your mobile 11 months or more? U R entitle..."
      ]
     },
     "execution_count": 22,
     "metadata": {},
     "output_type": "execute_result"
    }
   ],
   "source": [
    "#now select 10 by default random values to check how our data looks like\n",
    "df.head(10)"
   ]
  },
  {
   "cell_type": "code",
   "execution_count": 23,
   "id": "c252d0bd",
   "metadata": {},
   "outputs": [
    {
     "data": {
      "text/plain": [
       "0    4516\n",
       "1     653\n",
       "Name: Target, dtype: int64"
      ]
     },
     "execution_count": 23,
     "metadata": {},
     "output_type": "execute_result"
    }
   ],
   "source": [
    "#Apply on target column to know how much spam accurs and how much ham are accured in csv file\n",
    "df['Target'].value_counts()"
   ]
  },
  {
   "cell_type": "code",
   "execution_count": 24,
   "id": "ed52d343",
   "metadata": {},
   "outputs": [],
   "source": [
    "##So the above information tells us that ham accurs 4516 time and spam accurs 653 times so all will be 4516+653 = 5169 (total rows)"
   ]
  },
  {
   "cell_type": "code",
   "execution_count": 25,
   "id": "8ada5f4b",
   "metadata": {},
   "outputs": [
    {
     "data": {
      "image/png": "[encoded data removed]",
      "text/plain": [
       "<Figure size 640x480 with 1 Axes>"
      ]
     },
     "metadata": {},
     "output_type": "display_data"
    }
   ],
   "source": [
    "# Lets Visualize the above information in bar plot\n",
    "\n",
    "# Count the occurrences of each class\n",
    "class_counts = df['Target'].value_counts()\n",
    "\n",
    "# Create a bar plot\n",
    "colors = ['blue', 'orange']\n",
    "class_counts.plot(kind='bar', color=colors)\n",
    "plt.xlabel('Class of ham or spam')\n",
    "plt.ylabel('Count (how much time occurs)')\n",
    "plt.xticks(rotation=0)\n",
    "plt.title('Distribution of Classes between spam and ham occurs in data set')\n",
    "\n",
    "# Add labels for classes and colors\n",
    "for i, count in enumerate(class_counts):\n",
    "    plt.text(i, count + 10, f'{count}\\n({colors[i].capitalize()})', ha='center', color=colors[i])\n",
    "\n",
    "plt.show()\n"
   ]
  },
  {
   "cell_type": "markdown",
   "id": "0b5b27b1",
   "metadata": {},
   "source": [
    "# 3rd_Step: Features Selections"
   ]
  },
  {
   "cell_type": "code",
   "execution_count": 26,
   "id": "aae98512",
   "metadata": {},
   "outputs": [],
   "source": [
    "# Data is imbalanced because the spam are small in numbers while ham are larger"
   ]
  },
  {
   "cell_type": "code",
   "execution_count": 27,
   "id": "cf4189dc",
   "metadata": {},
   "outputs": [],
   "source": [
    "# We are going to put some extra column in our data-set file permanently as we will use it in feature tuning time to build better accuracy.\n",
    "# And these three Columns will give us the information of hoe mnay words, characters and sentence are in the paragraph.\n",
    "# nlkt (Nature language tool kit)\n",
    "import nltk "
   ]
  },
  {
   "cell_type": "code",
   "execution_count": 28,
   "id": "6b06ab66",
   "metadata": {},
   "outputs": [
    {
     "name": "stdout",
     "output_type": "stream",
     "text": [
      "Requirement already satisfied: nltk in c:\\users\\touseef hadi\\anaconda3\\lib\\site-packages (3.7)\n",
      "Requirement already satisfied: click in c:\\users\\touseef hadi\\anaconda3\\lib\\site-packages (from nltk) (8.0.4)\n",
      "Requirement already satisfied: joblib in c:\\users\\touseef hadi\\anaconda3\\lib\\site-packages (from nltk) (1.2.0)\n",
      "Requirement already satisfied: regex>=2021.8.3 in c:\\users\\touseef hadi\\anaconda3\\lib\\site-packages (from nltk) (2022.7.9)\n",
      "Requirement already satisfied: tqdm in c:\\users\\touseef hadi\\anaconda3\\lib\\site-packages (from nltk) (4.65.0)\n",
      "Requirement already satisfied: colorama in c:\\users\\touseef hadi\\anaconda3\\lib\\site-packages (from click->nltk) (0.4.6)\n"
     ]
    }
   ],
   "source": [
    "!pip install nltk"
   ]
  },
  {
   "cell_type": "code",
   "execution_count": 29,
   "id": "b3aa5d07",
   "metadata": {},
   "outputs": [
    {
     "name": "stderr",
     "output_type": "stream",
     "text": [
      "[nltk_data] Downloading package punkt to C:\\Users\\Touseef\n",
      "[nltk_data]     Hadi\\AppData\\Roaming\\nltk_data...\n",
      "[nltk_data]   Package punkt is already up-to-date!\n"
     ]
    },
    {
     "data": {
      "text/plain": [
       "True"
      ]
     },
     "execution_count": 29,
     "metadata": {},
     "output_type": "execute_result"
    }
   ],
   "source": [
    "#download some dependency for nltk library\n",
    "nltk.download('punkt')"
   ]
  },
  {
   "cell_type": "code",
   "execution_count": 30,
   "id": "56e4386f",
   "metadata": {},
   "outputs": [
    {
     "data": {
      "text/plain": [
       "0       [Go until jurong point, crazy.., Available onl...\n",
       "1                        [Ok lar..., Joking wif u oni...]\n",
       "2       [Free entry in 2 a wkly comp to win FA Cup fin...\n",
       "3       [U dun say so early hor... U c already then sa...\n",
       "4       [Nah I don't think he goes to usf, he lives ar...\n",
       "                              ...                        \n",
       "5567    [This is the 2nd time we have tried 2 contact ...\n",
       "5568              [Will Ì_ b going to esplanade fr home?]\n",
       "5569    [Pity, * was in mood for that., So...any other...\n",
       "5570    [The guy did some bitching but I acted like i'...\n",
       "5571                        [Rofl., Its true to its name]\n",
       "Name: Information, Length: 5169, dtype: object"
      ]
     },
     "execution_count": 30,
     "metadata": {},
     "output_type": "execute_result"
    }
   ],
   "source": [
    "#Now finding number of sentences in paragraph\n",
    "df['Information'].apply(lambda x:nltk.sent_tokenize(x))"
   ]
  },
  {
   "cell_type": "code",
   "execution_count": 31,
   "id": "026ec870",
   "metadata": {},
   "outputs": [],
   "source": [
    "#now findinfd the length of sentencess and add that column\n",
    "df['count_of_sent'] = df['Information'].apply(lambda x:len(nltk.sent_tokenize(x)))"
   ]
  },
  {
   "cell_type": "code",
   "execution_count": 32,
   "id": "fd28f5cd",
   "metadata": {},
   "outputs": [
    {
     "data": {
      "text/html": [
       "<div>\n",
       "<style scoped>\n",
       "    .dataframe tbody tr th:only-of-type {\n",
       "        vertical-align: middle;\n",
       "    }\n",
       "\n",
       "    .dataframe tbody tr th {\n",
       "        vertical-align: top;\n",
       "    }\n",
       "\n",
       "    .dataframe thead th {\n",
       "        text-align: right;\n",
       "    }\n",
       "</style>\n",
       "<table border=\"1\" class=\"dataframe\">\n",
       "  <thead>\n",
       "    <tr style=\"text-align: right;\">\n",
       "      <th></th>\n",
       "      <th>Target</th>\n",
       "      <th>Information</th>\n",
       "      <th>count_of_sent</th>\n",
       "    </tr>\n",
       "  </thead>\n",
       "  <tbody>\n",
       "    <tr>\n",
       "      <th>0</th>\n",
       "      <td>0</td>\n",
       "      <td>Go until jurong point, crazy.. Available only ...</td>\n",
       "      <td>2</td>\n",
       "    </tr>\n",
       "    <tr>\n",
       "      <th>1</th>\n",
       "      <td>0</td>\n",
       "      <td>Ok lar... Joking wif u oni...</td>\n",
       "      <td>2</td>\n",
       "    </tr>\n",
       "    <tr>\n",
       "      <th>2</th>\n",
       "      <td>1</td>\n",
       "      <td>Free entry in 2 a wkly comp to win FA Cup fina...</td>\n",
       "      <td>2</td>\n",
       "    </tr>\n",
       "    <tr>\n",
       "      <th>3</th>\n",
       "      <td>0</td>\n",
       "      <td>U dun say so early hor... U c already then say...</td>\n",
       "      <td>1</td>\n",
       "    </tr>\n",
       "    <tr>\n",
       "      <th>4</th>\n",
       "      <td>0</td>\n",
       "      <td>Nah I don't think he goes to usf, he lives aro...</td>\n",
       "      <td>1</td>\n",
       "    </tr>\n",
       "  </tbody>\n",
       "</table>\n",
       "</div>"
      ],
      "text/plain": [
       "   Target                                        Information  count_of_sent\n",
       "0       0  Go until jurong point, crazy.. Available only ...              2\n",
       "1       0                      Ok lar... Joking wif u oni...              2\n",
       "2       1  Free entry in 2 a wkly comp to win FA Cup fina...              2\n",
       "3       0  U dun say so early hor... U c already then say...              1\n",
       "4       0  Nah I don't think he goes to usf, he lives aro...              1"
      ]
     },
     "execution_count": 32,
     "metadata": {},
     "output_type": "execute_result"
    }
   ],
   "source": [
    "df.head()"
   ]
  },
  {
   "cell_type": "code",
   "execution_count": 33,
   "id": "7b3c574d",
   "metadata": {},
   "outputs": [
    {
     "data": {
      "text/plain": [
       "0       [Go, until, jurong, point, ,, crazy, .., Avail...\n",
       "1                [Ok, lar, ..., Joking, wif, u, oni, ...]\n",
       "2       [Free, entry, in, 2, a, wkly, comp, to, win, F...\n",
       "3       [U, dun, say, so, early, hor, ..., U, c, alrea...\n",
       "4       [Nah, I, do, n't, think, he, goes, to, usf, ,,...\n",
       "                              ...                        \n",
       "5567    [This, is, the, 2nd, time, we, have, tried, 2,...\n",
       "5568     [Will, Ì_, b, going, to, esplanade, fr, home, ?]\n",
       "5569    [Pity, ,, *, was, in, mood, for, that, ., So, ...\n",
       "5570    [The, guy, did, some, bitching, but, I, acted,...\n",
       "5571                  [Rofl, ., Its, true, to, its, name]\n",
       "Name: Information, Length: 5169, dtype: object"
      ]
     },
     "execution_count": 33,
     "metadata": {},
     "output_type": "execute_result"
    }
   ],
   "source": [
    "#Finding the number of length of Words in sentence\n",
    "# first we are going to break the sentence in works and than find its length\n",
    "df['Information'].apply(lambda x:nltk.word_tokenize(x))"
   ]
  },
  {
   "cell_type": "code",
   "execution_count": 34,
   "id": "daa3f56a",
   "metadata": {},
   "outputs": [],
   "source": [
    "df['count_of_words'] = df['Information'].apply(lambda x:len(nltk.word_tokenize(x)))"
   ]
  },
  {
   "cell_type": "code",
   "execution_count": 35,
   "id": "227a6cd5",
   "metadata": {},
   "outputs": [
    {
     "data": {
      "text/html": [
       "<div>\n",
       "<style scoped>\n",
       "    .dataframe tbody tr th:only-of-type {\n",
       "        vertical-align: middle;\n",
       "    }\n",
       "\n",
       "    .dataframe tbody tr th {\n",
       "        vertical-align: top;\n",
       "    }\n",
       "\n",
       "    .dataframe thead th {\n",
       "        text-align: right;\n",
       "    }\n",
       "</style>\n",
       "<table border=\"1\" class=\"dataframe\">\n",
       "  <thead>\n",
       "    <tr style=\"text-align: right;\">\n",
       "      <th></th>\n",
       "      <th>Target</th>\n",
       "      <th>Information</th>\n",
       "      <th>count_of_sent</th>\n",
       "      <th>count_of_words</th>\n",
       "    </tr>\n",
       "  </thead>\n",
       "  <tbody>\n",
       "    <tr>\n",
       "      <th>0</th>\n",
       "      <td>0</td>\n",
       "      <td>Go until jurong point, crazy.. Available only ...</td>\n",
       "      <td>2</td>\n",
       "      <td>24</td>\n",
       "    </tr>\n",
       "    <tr>\n",
       "      <th>1</th>\n",
       "      <td>0</td>\n",
       "      <td>Ok lar... Joking wif u oni...</td>\n",
       "      <td>2</td>\n",
       "      <td>8</td>\n",
       "    </tr>\n",
       "    <tr>\n",
       "      <th>2</th>\n",
       "      <td>1</td>\n",
       "      <td>Free entry in 2 a wkly comp to win FA Cup fina...</td>\n",
       "      <td>2</td>\n",
       "      <td>37</td>\n",
       "    </tr>\n",
       "    <tr>\n",
       "      <th>3</th>\n",
       "      <td>0</td>\n",
       "      <td>U dun say so early hor... U c already then say...</td>\n",
       "      <td>1</td>\n",
       "      <td>13</td>\n",
       "    </tr>\n",
       "    <tr>\n",
       "      <th>4</th>\n",
       "      <td>0</td>\n",
       "      <td>Nah I don't think he goes to usf, he lives aro...</td>\n",
       "      <td>1</td>\n",
       "      <td>15</td>\n",
       "    </tr>\n",
       "  </tbody>\n",
       "</table>\n",
       "</div>"
      ],
      "text/plain": [
       "   Target                                        Information  count_of_sent  \\\n",
       "0       0  Go until jurong point, crazy.. Available only ...              2   \n",
       "1       0                      Ok lar... Joking wif u oni...              2   \n",
       "2       1  Free entry in 2 a wkly comp to win FA Cup fina...              2   \n",
       "3       0  U dun say so early hor... U c already then say...              1   \n",
       "4       0  Nah I don't think he goes to usf, he lives aro...              1   \n",
       "\n",
       "   count_of_words  \n",
       "0              24  \n",
       "1               8  \n",
       "2              37  \n",
       "3              13  \n",
       "4              15  "
      ]
     },
     "execution_count": 35,
     "metadata": {},
     "output_type": "execute_result"
    }
   ],
   "source": [
    "df.head()"
   ]
  },
  {
   "cell_type": "code",
   "execution_count": 36,
   "id": "ef05b1ca",
   "metadata": {},
   "outputs": [],
   "source": [
    "#Finding the number of length of sentence according to the number of character in it \n",
    "df['count_of_charact'] = df['Information'].apply(len)"
   ]
  },
  {
   "cell_type": "code",
   "execution_count": 37,
   "id": "d44d4e0b",
   "metadata": {},
   "outputs": [
    {
     "data": {
      "text/html": [
       "<div>\n",
       "<style scoped>\n",
       "    .dataframe tbody tr th:only-of-type {\n",
       "        vertical-align: middle;\n",
       "    }\n",
       "\n",
       "    .dataframe tbody tr th {\n",
       "        vertical-align: top;\n",
       "    }\n",
       "\n",
       "    .dataframe thead th {\n",
       "        text-align: right;\n",
       "    }\n",
       "</style>\n",
       "<table border=\"1\" class=\"dataframe\">\n",
       "  <thead>\n",
       "    <tr style=\"text-align: right;\">\n",
       "      <th></th>\n",
       "      <th>Target</th>\n",
       "      <th>Information</th>\n",
       "      <th>count_of_sent</th>\n",
       "      <th>count_of_words</th>\n",
       "      <th>count_of_charact</th>\n",
       "    </tr>\n",
       "  </thead>\n",
       "  <tbody>\n",
       "    <tr>\n",
       "      <th>0</th>\n",
       "      <td>0</td>\n",
       "      <td>Go until jurong point, crazy.. Available only ...</td>\n",
       "      <td>2</td>\n",
       "      <td>24</td>\n",
       "      <td>111</td>\n",
       "    </tr>\n",
       "    <tr>\n",
       "      <th>1</th>\n",
       "      <td>0</td>\n",
       "      <td>Ok lar... Joking wif u oni...</td>\n",
       "      <td>2</td>\n",
       "      <td>8</td>\n",
       "      <td>29</td>\n",
       "    </tr>\n",
       "    <tr>\n",
       "      <th>2</th>\n",
       "      <td>1</td>\n",
       "      <td>Free entry in 2 a wkly comp to win FA Cup fina...</td>\n",
       "      <td>2</td>\n",
       "      <td>37</td>\n",
       "      <td>155</td>\n",
       "    </tr>\n",
       "    <tr>\n",
       "      <th>3</th>\n",
       "      <td>0</td>\n",
       "      <td>U dun say so early hor... U c already then say...</td>\n",
       "      <td>1</td>\n",
       "      <td>13</td>\n",
       "      <td>49</td>\n",
       "    </tr>\n",
       "    <tr>\n",
       "      <th>4</th>\n",
       "      <td>0</td>\n",
       "      <td>Nah I don't think he goes to usf, he lives aro...</td>\n",
       "      <td>1</td>\n",
       "      <td>15</td>\n",
       "      <td>61</td>\n",
       "    </tr>\n",
       "  </tbody>\n",
       "</table>\n",
       "</div>"
      ],
      "text/plain": [
       "   Target                                        Information  count_of_sent  \\\n",
       "0       0  Go until jurong point, crazy.. Available only ...              2   \n",
       "1       0                      Ok lar... Joking wif u oni...              2   \n",
       "2       1  Free entry in 2 a wkly comp to win FA Cup fina...              2   \n",
       "3       0  U dun say so early hor... U c already then say...              1   \n",
       "4       0  Nah I don't think he goes to usf, he lives aro...              1   \n",
       "\n",
       "   count_of_words  count_of_charact  \n",
       "0              24               111  \n",
       "1               8                29  \n",
       "2              37               155  \n",
       "3              13                49  \n",
       "4              15                61  "
      ]
     },
     "execution_count": 37,
     "metadata": {},
     "output_type": "execute_result"
    }
   ],
   "source": [
    "df.head()"
   ]
  },
  {
   "cell_type": "code",
   "execution_count": 38,
   "id": "00112560",
   "metadata": {},
   "outputs": [
    {
     "data": {
      "text/html": [
       "<div>\n",
       "<style scoped>\n",
       "    .dataframe tbody tr th:only-of-type {\n",
       "        vertical-align: middle;\n",
       "    }\n",
       "\n",
       "    .dataframe tbody tr th {\n",
       "        vertical-align: top;\n",
       "    }\n",
       "\n",
       "    .dataframe thead th {\n",
       "        text-align: right;\n",
       "    }\n",
       "</style>\n",
       "<table border=\"1\" class=\"dataframe\">\n",
       "  <thead>\n",
       "    <tr style=\"text-align: right;\">\n",
       "      <th></th>\n",
       "      <th>count_of_sent</th>\n",
       "      <th>count_of_words</th>\n",
       "      <th>count_of_charact</th>\n",
       "    </tr>\n",
       "  </thead>\n",
       "  <tbody>\n",
       "    <tr>\n",
       "      <th>count</th>\n",
       "      <td>5169.000000</td>\n",
       "      <td>5169.000000</td>\n",
       "      <td>5169.000000</td>\n",
       "    </tr>\n",
       "    <tr>\n",
       "      <th>mean</th>\n",
       "      <td>1.947185</td>\n",
       "      <td>18.453279</td>\n",
       "      <td>78.977945</td>\n",
       "    </tr>\n",
       "    <tr>\n",
       "      <th>std</th>\n",
       "      <td>1.362406</td>\n",
       "      <td>13.324793</td>\n",
       "      <td>58.236293</td>\n",
       "    </tr>\n",
       "    <tr>\n",
       "      <th>min</th>\n",
       "      <td>1.000000</td>\n",
       "      <td>1.000000</td>\n",
       "      <td>2.000000</td>\n",
       "    </tr>\n",
       "    <tr>\n",
       "      <th>25%</th>\n",
       "      <td>1.000000</td>\n",
       "      <td>9.000000</td>\n",
       "      <td>36.000000</td>\n",
       "    </tr>\n",
       "    <tr>\n",
       "      <th>50%</th>\n",
       "      <td>1.000000</td>\n",
       "      <td>15.000000</td>\n",
       "      <td>60.000000</td>\n",
       "    </tr>\n",
       "    <tr>\n",
       "      <th>75%</th>\n",
       "      <td>2.000000</td>\n",
       "      <td>26.000000</td>\n",
       "      <td>117.000000</td>\n",
       "    </tr>\n",
       "    <tr>\n",
       "      <th>max</th>\n",
       "      <td>28.000000</td>\n",
       "      <td>220.000000</td>\n",
       "      <td>910.000000</td>\n",
       "    </tr>\n",
       "  </tbody>\n",
       "</table>\n",
       "</div>"
      ],
      "text/plain": [
       "       count_of_sent  count_of_words  count_of_charact\n",
       "count    5169.000000     5169.000000       5169.000000\n",
       "mean        1.947185       18.453279         78.977945\n",
       "std         1.362406       13.324793         58.236293\n",
       "min         1.000000        1.000000          2.000000\n",
       "25%         1.000000        9.000000         36.000000\n",
       "50%         1.000000       15.000000         60.000000\n",
       "75%         2.000000       26.000000        117.000000\n",
       "max        28.000000      220.000000        910.000000"
      ]
     },
     "execution_count": 38,
     "metadata": {},
     "output_type": "execute_result"
    }
   ],
   "source": [
    "# Finding the number of rows in which num_characters, words and sentence is count value\n",
    "# mean = its the average of num_characters it self, num_words it self, Num_sentences itself\n",
    "# std (standard deviation) = number of charater from above and below the mean value and the same in case word and sentences\n",
    "# min (minumum) = it is the minimum number of character, minimum number of of word and Minimum number of sentence\n",
    "# To understand 25%,50%,75%, lets Consider a list [1,2,3,4,5,6,7,8,9] here at 25% value 2 is present at 50% value 5 and 75% value 8\n",
    "# max (maximum) = it is the maximum number of character, minimum number of of word and Minimum number of sentence\n",
    "df[['count_of_sent','count_of_words','count_of_charact']].describe()"
   ]
  },
  {
   "cell_type": "code",
   "execution_count": 39,
   "id": "d6df1550",
   "metadata": {},
   "outputs": [
    {
     "data": {
      "text/html": [
       "<div>\n",
       "<style scoped>\n",
       "    .dataframe tbody tr th:only-of-type {\n",
       "        vertical-align: middle;\n",
       "    }\n",
       "\n",
       "    .dataframe tbody tr th {\n",
       "        vertical-align: top;\n",
       "    }\n",
       "\n",
       "    .dataframe thead th {\n",
       "        text-align: right;\n",
       "    }\n",
       "</style>\n",
       "<table border=\"1\" class=\"dataframe\">\n",
       "  <thead>\n",
       "    <tr style=\"text-align: right;\">\n",
       "      <th></th>\n",
       "      <th>count_of_sent</th>\n",
       "      <th>count_of_words</th>\n",
       "      <th>count_of_charact</th>\n",
       "    </tr>\n",
       "  </thead>\n",
       "  <tbody>\n",
       "    <tr>\n",
       "      <th>count</th>\n",
       "      <td>4516.000000</td>\n",
       "      <td>4516.000000</td>\n",
       "      <td>4516.000000</td>\n",
       "    </tr>\n",
       "    <tr>\n",
       "      <th>mean</th>\n",
       "      <td>1.799601</td>\n",
       "      <td>17.120903</td>\n",
       "      <td>70.459256</td>\n",
       "    </tr>\n",
       "    <tr>\n",
       "      <th>std</th>\n",
       "      <td>1.278465</td>\n",
       "      <td>13.493725</td>\n",
       "      <td>56.358207</td>\n",
       "    </tr>\n",
       "    <tr>\n",
       "      <th>min</th>\n",
       "      <td>1.000000</td>\n",
       "      <td>1.000000</td>\n",
       "      <td>2.000000</td>\n",
       "    </tr>\n",
       "    <tr>\n",
       "      <th>25%</th>\n",
       "      <td>1.000000</td>\n",
       "      <td>8.000000</td>\n",
       "      <td>34.000000</td>\n",
       "    </tr>\n",
       "    <tr>\n",
       "      <th>50%</th>\n",
       "      <td>1.000000</td>\n",
       "      <td>13.000000</td>\n",
       "      <td>52.000000</td>\n",
       "    </tr>\n",
       "    <tr>\n",
       "      <th>75%</th>\n",
       "      <td>2.000000</td>\n",
       "      <td>22.000000</td>\n",
       "      <td>90.000000</td>\n",
       "    </tr>\n",
       "    <tr>\n",
       "      <th>max</th>\n",
       "      <td>28.000000</td>\n",
       "      <td>220.000000</td>\n",
       "      <td>910.000000</td>\n",
       "    </tr>\n",
       "  </tbody>\n",
       "</table>\n",
       "</div>"
      ],
      "text/plain": [
       "       count_of_sent  count_of_words  count_of_charact\n",
       "count    4516.000000     4516.000000       4516.000000\n",
       "mean        1.799601       17.120903         70.459256\n",
       "std         1.278465       13.493725         56.358207\n",
       "min         1.000000        1.000000          2.000000\n",
       "25%         1.000000        8.000000         34.000000\n",
       "50%         1.000000       13.000000         52.000000\n",
       "75%         2.000000       22.000000         90.000000\n",
       "max        28.000000      220.000000        910.000000"
      ]
     },
     "execution_count": 39,
     "metadata": {},
     "output_type": "execute_result"
    }
   ],
   "source": [
    "# Target index 0 value specified the ham msgs, here we are trying to find that how much of ham msgs occurs and number of corresponding sizes of character, words and sentence for ham msgs\n",
    "# counts indicate the number of characters, words and sentences for corrsponding number of ham msgs\n",
    "# And all the remaining value has the same concept as the above i discuss but that one is for all data set and here is only for ham msgs in that all dataset\n",
    "df[df['Target'] == 0][['count_of_sent','count_of_words','count_of_charact']].describe()"
   ]
  },
  {
   "cell_type": "code",
   "execution_count": 40,
   "id": "87d2aeae",
   "metadata": {},
   "outputs": [
    {
     "data": {
      "text/html": [
       "<div>\n",
       "<style scoped>\n",
       "    .dataframe tbody tr th:only-of-type {\n",
       "        vertical-align: middle;\n",
       "    }\n",
       "\n",
       "    .dataframe tbody tr th {\n",
       "        vertical-align: top;\n",
       "    }\n",
       "\n",
       "    .dataframe thead th {\n",
       "        text-align: right;\n",
       "    }\n",
       "</style>\n",
       "<table border=\"1\" class=\"dataframe\">\n",
       "  <thead>\n",
       "    <tr style=\"text-align: right;\">\n",
       "      <th></th>\n",
       "      <th>count_of_sent</th>\n",
       "      <th>count_of_words</th>\n",
       "      <th>count_of_charact</th>\n",
       "    </tr>\n",
       "  </thead>\n",
       "  <tbody>\n",
       "    <tr>\n",
       "      <th>count</th>\n",
       "      <td>653.000000</td>\n",
       "      <td>653.000000</td>\n",
       "      <td>653.000000</td>\n",
       "    </tr>\n",
       "    <tr>\n",
       "      <th>mean</th>\n",
       "      <td>2.967841</td>\n",
       "      <td>27.667688</td>\n",
       "      <td>137.891271</td>\n",
       "    </tr>\n",
       "    <tr>\n",
       "      <th>std</th>\n",
       "      <td>1.483201</td>\n",
       "      <td>7.008418</td>\n",
       "      <td>30.137753</td>\n",
       "    </tr>\n",
       "    <tr>\n",
       "      <th>min</th>\n",
       "      <td>1.000000</td>\n",
       "      <td>2.000000</td>\n",
       "      <td>13.000000</td>\n",
       "    </tr>\n",
       "    <tr>\n",
       "      <th>25%</th>\n",
       "      <td>2.000000</td>\n",
       "      <td>25.000000</td>\n",
       "      <td>132.000000</td>\n",
       "    </tr>\n",
       "    <tr>\n",
       "      <th>50%</th>\n",
       "      <td>3.000000</td>\n",
       "      <td>29.000000</td>\n",
       "      <td>149.000000</td>\n",
       "    </tr>\n",
       "    <tr>\n",
       "      <th>75%</th>\n",
       "      <td>4.000000</td>\n",
       "      <td>32.000000</td>\n",
       "      <td>157.000000</td>\n",
       "    </tr>\n",
       "    <tr>\n",
       "      <th>max</th>\n",
       "      <td>8.000000</td>\n",
       "      <td>46.000000</td>\n",
       "      <td>224.000000</td>\n",
       "    </tr>\n",
       "  </tbody>\n",
       "</table>\n",
       "</div>"
      ],
      "text/plain": [
       "       count_of_sent  count_of_words  count_of_charact\n",
       "count     653.000000      653.000000        653.000000\n",
       "mean        2.967841       27.667688        137.891271\n",
       "std         1.483201        7.008418         30.137753\n",
       "min         1.000000        2.000000         13.000000\n",
       "25%         2.000000       25.000000        132.000000\n",
       "50%         3.000000       29.000000        149.000000\n",
       "75%         4.000000       32.000000        157.000000\n",
       "max         8.000000       46.000000        224.000000"
      ]
     },
     "execution_count": 40,
     "metadata": {},
     "output_type": "execute_result"
    }
   ],
   "source": [
    "# Target index 1 value specified the spam msgs, here we are trying to find that how much of spam msgs occurs and number of corresponding sizes of character, words and sentence for spam msgs\n",
    "# counts indicate the number of characters, words and sentences for corrsponding number of spam msgs\n",
    "# And all the remaining value has the same concept as the above i discuss but that one is for all data set and here is only for spam msgs in that all dataset\n",
    "df[df['Target'] == 1][['count_of_sent','count_of_words','count_of_charact']].describe()"
   ]
  },
  {
   "cell_type": "code",
   "execution_count": 41,
   "id": "2575ead5",
   "metadata": {},
   "outputs": [
    {
     "data": {
      "image/png": "[encoded data removed]",
      "text/plain": [
       "<Figure size 1200x600 with 1 Axes>"
      ]
     },
     "metadata": {},
     "output_type": "display_data"
    }
   ],
   "source": [
    "#change the size of the histogram\n",
    "plt.figure(figsize=(12,6))\n",
    "#This Plot is for ham mesages because index is mention 0 here in target column for counting the sentence\n",
    "sns.histplot(df[df['Target'] == 0]['count_of_sent'], color = 'purple')\n",
    "#This Plot is for spam mesages because index is mention 1 here in target column with a red color given for counting the sentence\n",
    "sns.histplot(df[df['Target'] == 1]['count_of_sent'],color='red')\n",
    "plt.legend(title='Target', labels=['ham', 'spam'])\n",
    "plt.show()"
   ]
  },
  {
   "cell_type": "code",
   "execution_count": 42,
   "id": "63ee5bd1",
   "metadata": {},
   "outputs": [],
   "source": [
    "# In the above graph the number of class and type of class is on x-axis\n",
    "# Number"
   ]
  },
  {
   "cell_type": "code",
   "execution_count": 43,
   "id": "97f2c4ff",
   "metadata": {},
   "outputs": [
    {
     "data": {
      "image/png": "[encoded data removed]",
      "text/plain": [
       "<Figure size 1200x600 with 1 Axes>"
      ]
     },
     "metadata": {},
     "output_type": "display_data"
    }
   ],
   "source": [
    "#change the size of the histogram\n",
    "plt.figure(figsize=(12,6))\n",
    "#This Plot is for ham mesages because index is mention 0 here in target column for counting the sentence\n",
    "sns.histplot(df[df['Target'] == 0]['count_of_words'], color = 'purple')\n",
    "#This Plot is for spam mesages because index is mention 1 here in target column with a red color given for counting the sentence\n",
    "sns.histplot(df[df['Target'] == 1]['count_of_words'],color='red')\n",
    "plt.legend(title='Target', labels=['ham', 'spam'])\n",
    "plt.show()"
   ]
  },
  {
   "cell_type": "code",
   "execution_count": 44,
   "id": "11a57dd9",
   "metadata": {},
   "outputs": [],
   "source": [
    "#Explain the above graph"
   ]
  },
  {
   "cell_type": "code",
   "execution_count": 45,
   "id": "3162cec1",
   "metadata": {},
   "outputs": [
    {
     "data": {
      "image/png": "[encoded data removed]",
      "text/plain": [
       "<Figure size 1200x600 with 1 Axes>"
      ]
     },
     "metadata": {},
     "output_type": "display_data"
    }
   ],
   "source": [
    "#change the size of the histogram\n",
    "plt.figure(figsize=(12,6))\n",
    "#This Plot is for ham mesages because index is mention 0 here in target column for counting the sentence\n",
    "sns.histplot(df[df['Target'] == 0]['count_of_charact'], color = 'purple')\n",
    "#This Plot is for spam mesages because index is mention 1 here in target column with a red color given for counting the sentence\n",
    "sns.histplot(df[df['Target'] == 1]['count_of_charact'],color='red')\n",
    "plt.legend(title='Target', labels=['ham', 'spam'])\n",
    "plt.show()"
   ]
  },
  {
   "cell_type": "code",
   "execution_count": 46,
   "id": "14e6196a",
   "metadata": {},
   "outputs": [],
   "source": [
    "##Explain thegraph"
   ]
  },
  {
   "cell_type": "code",
   "execution_count": 47,
   "id": "5fe84487",
   "metadata": {},
   "outputs": [
    {
     "data": {
      "image/png": "[encoded data removed]",
      "text/plain": [
       "<Figure size 813.5x750 with 12 Axes>"
      ]
     },
     "metadata": {},
     "output_type": "display_data"
    }
   ],
   "source": [
    "import seaborn as sns\n",
    "import matplotlib.pyplot as plt\n",
    "\n",
    "# Create a scatter plot matrix with hue\n",
    "sns.set(style='whitegrid')\n",
    "sns.pairplot(df, hue='Target', markers=[\"+\", \"x\"], palette=['blue', 'red'])\n",
    "\n",
    "plt.show()\n"
   ]
  },
  {
   "cell_type": "raw",
   "id": "22df045d",
   "metadata": {},
   "source": [
    "lets discuss above graph\n",
    "==> Outliers are the points which are differe from the rest of the data.\n",
    "==> WE can see that here is an outliers in data so we will fixed it latter "
   ]
  },
  {
   "cell_type": "code",
   "execution_count": 48,
   "id": "38acaedc",
   "metadata": {},
   "outputs": [
    {
     "name": "stderr",
     "output_type": "stream",
     "text": [
      "C:\\Users\\Touseef Hadi\\AppData\\Local\\Temp\\ipykernel_4244\\2720116860.py:2: FutureWarning: The default value of numeric_only in DataFrame.corr is deprecated. In a future version, it will default to False. Select only valid columns or specify the value of numeric_only to silence this warning.\n",
      "  sns.heatmap(df.corr(),annot=True)\n"
     ]
    },
    {
     "data": {
      "text/plain": [
       "<Axes: >"
      ]
     },
     "execution_count": 48,
     "metadata": {},
     "output_type": "execute_result"
    },
    {
     "data": {
      "image/png": "[encoded data removed]",
      "text/plain": [
       "<Figure size 640x480 with 2 Axes>"
      ]
     },
     "metadata": {},
     "output_type": "display_data"
    }
   ],
   "source": [
    "#Heat map is use to find the corelationship betweenthe columns and the target values\n",
    "sns.heatmap(df.corr(),annot=True)"
   ]
  },
  {
   "cell_type": "raw",
   "id": "71222e39",
   "metadata": {},
   "source": [
    "Lest Explainthe above matrix\n",
    "==> In diagnals we can see 1, and it means in target column 1 value which is correspond to the spam msgs.\n",
    "==> Lets consider the first row ( 0.38 means that the num_characters has co-reation of 38% with the target value 1\n",
    "                                means that if the num_character increases than the chnaces that the msg shold be spam (1) upto 38% )\n",
    "==> The same thing for the num_words is 26%.\n",
    "==> The smae is for the num_sentences is 28%\n",
    "==> So we will work further on num_characters because its tendency is high than the other two with the target values."
   ]
  },
  {
   "cell_type": "raw",
   "id": "77beb67c",
   "metadata": {},
   "source": [
    "Steps to be done in pre-processing\n",
    "1) Lower case\n",
    "2) Tokenization\n",
    "3) Removing special characters\n",
    "4) Removing stop words and punctuation\n",
    "5) Stemming"
   ]
  },
  {
   "cell_type": "raw",
   "id": "f2b9c19b",
   "metadata": {},
   "source": [
    "Lets explain the above terminalogy and why we do it\n",
    "==> Lower case: First we will convert all the sentences into lower case because to treat it as lower case or uppercase but not in both case.\n",
    "==> Tokenization: it is the procees to split our paraghraph as a sentence, as words or as characters.\n",
    "==> Removing spacial character: To clean the data we have to remove the spcial characters like @,!,&,^ e.t.c\n",
    "==> Removing stop words and punctuation: These are the words which are use in the setntece formation but have not an actual meaning like is, the, they, e.t.c\n",
    "==> Stemming: In this process we have to convert the same mening words to one word like e.g, In go, went, gone we have to convert them into one single word like go "
   ]
  },
  {
   "cell_type": "code",
   "execution_count": 49,
   "id": "3c411a17",
   "metadata": {},
   "outputs": [
    {
     "name": "stderr",
     "output_type": "stream",
     "text": [
      "[nltk_data] Downloading package stopwords to C:\\Users\\Touseef\n",
      "[nltk_data]     Hadi\\AppData\\Roaming\\nltk_data...\n",
      "[nltk_data]   Package stopwords is already up-to-date!\n"
     ]
    },
    {
     "data": {
      "text/plain": [
       "True"
      ]
     },
     "execution_count": 49,
     "metadata": {},
     "output_type": "execute_result"
    }
   ],
   "source": [
    "import nltk\n",
    "### Now downloading the stop wordf from nltk\n",
    "nltk.download('stopwords')"
   ]
  },
  {
   "cell_type": "code",
   "execution_count": 50,
   "id": "db4b0706",
   "metadata": {
    "scrolled": false
   },
   "outputs": [],
   "source": [
    "from nltk.corpus import stopwords\n",
    "#stopwords.words('english') ## These are the stopwords in english"
   ]
  },
  {
   "cell_type": "code",
   "execution_count": 51,
   "id": "e815fd50",
   "metadata": {},
   "outputs": [
    {
     "name": "stderr",
     "output_type": "stream",
     "text": [
      "[nltk_data] Downloading package punkt to C:\\Users\\Touseef\n",
      "[nltk_data]     Hadi\\AppData\\Roaming\\nltk_data...\n",
      "[nltk_data]   Package punkt is already up-to-date!\n",
      "[nltk_data] Downloading package stopwords to C:\\Users\\Touseef\n",
      "[nltk_data]     Hadi\\AppData\\Roaming\\nltk_data...\n",
      "[nltk_data]   Package stopwords is already up-to-date!\n"
     ]
    }
   ],
   "source": [
    "import string\n",
    "import nltk\n",
    "from nltk.stem import PorterStemmer\n",
    "from nltk.corpus import stopwords\n",
    "import string\n",
    "\n",
    "nltk.download('punkt')\n",
    "nltk.download('stopwords')\n",
    "\n",
    "# Create a stemming object\n",
    "ps = PorterStemmer()\n",
    "\n",
    "# Function to transform the text\n",
    "def updated_text(text):\n",
    "    text = text.lower()\n",
    "    text = nltk.word_tokenize(text)\n",
    "\n",
    "    y = []\n",
    "    for i in text:\n",
    "        if i.isalnum():\n",
    "            y.append(i)\n",
    "\n",
    "    text = y[:]\n",
    "    y.clear()\n",
    "\n",
    "    for i in text:\n",
    "        if i not in stopwords.words('english') and i not in string.punctuation:\n",
    "            y.append(i)\n",
    "\n",
    "    text = y[:]\n",
    "    y.clear()\n",
    "\n",
    "    for i in text:\n",
    "        y.append(ps.stem(i))\n",
    "\n",
    "    return \" \".join(y)\n"
   ]
  },
  {
   "cell_type": "code",
   "execution_count": 52,
   "id": "db2a14c5",
   "metadata": {},
   "outputs": [
    {
     "data": {
      "text/plain": [
       "\"I'm really not up to it still tonight babe\""
      ]
     },
     "execution_count": 52,
     "metadata": {},
     "output_type": "execute_result"
    }
   ],
   "source": [
    "#Pick the sentence from the index 88\n",
    "df['Information'][88]\n"
   ]
  },
  {
   "cell_type": "code",
   "execution_count": 53,
   "id": "b07de4a3",
   "metadata": {},
   "outputs": [
    {
     "data": {
      "text/plain": [
       "'realli still tonight babe'"
      ]
     },
     "execution_count": 53,
     "metadata": {},
     "output_type": "execute_result"
    }
   ],
   "source": [
    "#This is the results of above operation apply in the function\n",
    "updated_text(\"I'm really not up to it still tonight babe\")"
   ]
  },
  {
   "cell_type": "code",
   "execution_count": 54,
   "id": "259035db",
   "metadata": {},
   "outputs": [
    {
     "data": {
      "text/plain": [
       "'go'"
      ]
     },
     "execution_count": 54,
     "metadata": {},
     "output_type": "execute_result"
    }
   ],
   "source": [
    "##It is called stemming, it covert going in to go\n",
    "from nltk.stem.porter import PorterStemmer\n",
    "ps = PorterStemmer()\n",
    "ps.stem('going')"
   ]
  },
  {
   "cell_type": "code",
   "execution_count": 55,
   "id": "a63b9245",
   "metadata": {},
   "outputs": [],
   "source": [
    "#Now create a new column with name transformed_text and apply the above function which we have create in preprocessing on text column and new text should print in the transformed_text column\n",
    "df['Updated_text'] = df['Information'].apply(updated_text)"
   ]
  },
  {
   "cell_type": "code",
   "execution_count": 56,
   "id": "0fc96d73",
   "metadata": {},
   "outputs": [
    {
     "data": {
      "text/html": [
       "<div>\n",
       "<style scoped>\n",
       "    .dataframe tbody tr th:only-of-type {\n",
       "        vertical-align: middle;\n",
       "    }\n",
       "\n",
       "    .dataframe tbody tr th {\n",
       "        vertical-align: top;\n",
       "    }\n",
       "\n",
       "    .dataframe thead th {\n",
       "        text-align: right;\n",
       "    }\n",
       "</style>\n",
       "<table border=\"1\" class=\"dataframe\">\n",
       "  <thead>\n",
       "    <tr style=\"text-align: right;\">\n",
       "      <th></th>\n",
       "      <th>Target</th>\n",
       "      <th>Information</th>\n",
       "      <th>count_of_sent</th>\n",
       "      <th>count_of_words</th>\n",
       "      <th>count_of_charact</th>\n",
       "      <th>Updated_text</th>\n",
       "    </tr>\n",
       "  </thead>\n",
       "  <tbody>\n",
       "    <tr>\n",
       "      <th>0</th>\n",
       "      <td>0</td>\n",
       "      <td>Go until jurong point, crazy.. Available only ...</td>\n",
       "      <td>2</td>\n",
       "      <td>24</td>\n",
       "      <td>111</td>\n",
       "      <td>go jurong point crazi avail bugi n great world...</td>\n",
       "    </tr>\n",
       "    <tr>\n",
       "      <th>1</th>\n",
       "      <td>0</td>\n",
       "      <td>Ok lar... Joking wif u oni...</td>\n",
       "      <td>2</td>\n",
       "      <td>8</td>\n",
       "      <td>29</td>\n",
       "      <td>ok lar joke wif u oni</td>\n",
       "    </tr>\n",
       "    <tr>\n",
       "      <th>2</th>\n",
       "      <td>1</td>\n",
       "      <td>Free entry in 2 a wkly comp to win FA Cup fina...</td>\n",
       "      <td>2</td>\n",
       "      <td>37</td>\n",
       "      <td>155</td>\n",
       "      <td>free entri 2 wkli comp win fa cup final tkt 21...</td>\n",
       "    </tr>\n",
       "    <tr>\n",
       "      <th>3</th>\n",
       "      <td>0</td>\n",
       "      <td>U dun say so early hor... U c already then say...</td>\n",
       "      <td>1</td>\n",
       "      <td>13</td>\n",
       "      <td>49</td>\n",
       "      <td>u dun say earli hor u c alreadi say</td>\n",
       "    </tr>\n",
       "    <tr>\n",
       "      <th>4</th>\n",
       "      <td>0</td>\n",
       "      <td>Nah I don't think he goes to usf, he lives aro...</td>\n",
       "      <td>1</td>\n",
       "      <td>15</td>\n",
       "      <td>61</td>\n",
       "      <td>nah think goe usf live around though</td>\n",
       "    </tr>\n",
       "  </tbody>\n",
       "</table>\n",
       "</div>"
      ],
      "text/plain": [
       "   Target                                        Information  count_of_sent  \\\n",
       "0       0  Go until jurong point, crazy.. Available only ...              2   \n",
       "1       0                      Ok lar... Joking wif u oni...              2   \n",
       "2       1  Free entry in 2 a wkly comp to win FA Cup fina...              2   \n",
       "3       0  U dun say so early hor... U c already then say...              1   \n",
       "4       0  Nah I don't think he goes to usf, he lives aro...              1   \n",
       "\n",
       "   count_of_words  count_of_charact  \\\n",
       "0              24               111   \n",
       "1               8                29   \n",
       "2              37               155   \n",
       "3              13                49   \n",
       "4              15                61   \n",
       "\n",
       "                                        Updated_text  \n",
       "0  go jurong point crazi avail bugi n great world...  \n",
       "1                              ok lar joke wif u oni  \n",
       "2  free entri 2 wkli comp win fa cup final tkt 21...  \n",
       "3                u dun say earli hor u c alreadi say  \n",
       "4               nah think goe usf live around though  "
      ]
     },
     "execution_count": 56,
     "metadata": {},
     "output_type": "execute_result"
    }
   ],
   "source": [
    "df.head()"
   ]
  },
  {
   "cell_type": "code",
   "execution_count": 57,
   "id": "e477d286",
   "metadata": {},
   "outputs": [],
   "source": [
    "spam_corpus = [] ##Empty list for appnding spam data\n",
    "for msg in df[df['Target'] == 1]['Updated_text'].tolist(): #Convert the Updated_text column for spam only into list\n",
    "    for word in msg.split(): # Split each sentence into word\n",
    "        spam_corpus.append(word) #Appending words\n",
    "        "
   ]
  },
  {
   "cell_type": "code",
   "execution_count": 58,
   "id": "e616f36a",
   "metadata": {},
   "outputs": [
    {
     "data": {
      "text/plain": [
       "9939"
      ]
     },
     "execution_count": 58,
     "metadata": {},
     "output_type": "execute_result"
    }
   ],
   "source": [
    "len(spam_corpus) ## Now All the number of words in transformed_text"
   ]
  },
  {
   "cell_type": "code",
   "execution_count": 59,
   "id": "5d742484",
   "metadata": {},
   "outputs": [
    {
     "name": "stderr",
     "output_type": "stream",
     "text": [
      "C:\\Users\\Touseef Hadi\\AppData\\Local\\Temp\\ipykernel_4244\\2212217747.py:21: UserWarning: FixedFormatter should only be used together with FixedLocator\n",
      "  ax.set_xticklabels(ax.get_xticklabels(), rotation=45, ha=\"right\")  # Increase rotation\n"
     ]
    },
    {
     "data": {
      "image/png": "[encoded data removed]",
      "text/plain": [
       "<Figure size 1500x600 with 1 Axes>"
      ]
     },
     "metadata": {},
     "output_type": "display_data"
    }
   ],
   "source": [
    "from collections import Counter\n",
    "import pandas as pd\n",
    "import seaborn as sns\n",
    "import matplotlib.pyplot as plt\n",
    "\n",
    "# Example data: Word counts\n",
    "word_counts = Counter(spam_corpus)\n",
    "\n",
    "# Convert the word counts into a DataFrame\n",
    "word_counts_df = pd.DataFrame(word_counts.most_common(50), columns=[\"Word\", \"Frequency\"])\n",
    "\n",
    "# Create the line chart using Seaborn\n",
    "sns.set(style=\"whitegrid\")  # Set the plot style\n",
    "plt.figure(figsize=(15, 6))  # Increase the figure size\n",
    "\n",
    "# Create a line chart using lineplot\n",
    "ax = sns.lineplot(x=\"Word\", y=\"Frequency\", data=word_counts_df, marker='o')\n",
    "\n",
    "# Customize the x-axis label and rotate tick labels\n",
    "ax.set_xlabel(\"Words\")\n",
    "ax.set_xticklabels(ax.get_xticklabels(), rotation=45, ha=\"right\")  # Increase rotation\n",
    "\n",
    "# Set the plot title and labels\n",
    "ax.set_title(\"Top 50 Words in Spam Corpus\")\n",
    "ax.set_ylabel(\"Frequency\")\n",
    "\n",
    "# Show the plot\n",
    "sns.despine()\n",
    "plt.tight_layout()\n",
    "plt.show()\n"
   ]
  },
  {
   "cell_type": "code",
   "execution_count": 60,
   "id": "8ba49b44",
   "metadata": {},
   "outputs": [],
   "source": [
    "ham_corpus = [] ##Empty list for appnding ham data\n",
    "for msg in df[df['Target'] == 0]['Updated_text'].tolist(): #Convert the Updated_text column for ham only into list\n",
    "    for word in msg.split(): # Split each sentence into word\n",
    "        ham_corpus.append(word) # for appending the data in the above empty list"
   ]
  },
  {
   "cell_type": "code",
   "execution_count": 61,
   "id": "98fcebfb",
   "metadata": {},
   "outputs": [
    {
     "data": {
      "text/plain": [
       "35394"
      ]
     },
     "execution_count": 61,
     "metadata": {},
     "output_type": "execute_result"
    }
   ],
   "source": [
    "len(ham_corpus)"
   ]
  },
  {
   "cell_type": "code",
   "execution_count": 62,
   "id": "010d4095",
   "metadata": {},
   "outputs": [
    {
     "name": "stderr",
     "output_type": "stream",
     "text": [
      "C:\\Users\\Touseef Hadi\\AppData\\Local\\Temp\\ipykernel_4244\\1414733520.py:21: UserWarning: FixedFormatter should only be used together with FixedLocator\n",
      "  ax.set_xticklabels(ax.get_xticklabels(), rotation=45, ha=\"right\")  # Increase rotation\n"
     ]
    },
    {
     "data": {
      "image/png": "[encoded data removed]",
      "text/plain": [
       "<Figure size 1500x600 with 1 Axes>"
      ]
     },
     "metadata": {},
     "output_type": "display_data"
    }
   ],
   "source": [
    "from collections import Counter\n",
    "import pandas as pd\n",
    "import seaborn as sns\n",
    "import matplotlib.pyplot as plt\n",
    "\n",
    "# Example data: Word counts\n",
    "word_counts = Counter(ham_corpus)\n",
    "\n",
    "# Convert the word counts into a DataFrame\n",
    "word_counts_df = pd.DataFrame(word_counts.most_common(50), columns=[\"Word\", \"Frequency\"])\n",
    "\n",
    "# Create the line chart using Seaborn\n",
    "sns.set(style=\"whitegrid\")  # Set the plot style\n",
    "plt.figure(figsize=(15, 6))  # Increase the figure size\n",
    "\n",
    "# Create a line chart using lineplot\n",
    "ax = sns.lineplot(x=\"Word\", y=\"Frequency\", data=word_counts_df, marker='o')\n",
    "\n",
    "# Customize the x-axis label and rotate tick labels\n",
    "ax.set_xlabel(\"Words\")\n",
    "ax.set_xticklabels(ax.get_xticklabels(), rotation=45, ha=\"right\")  # Increase rotation\n",
    "\n",
    "# Set the plot title and labels\n",
    "ax.set_title(\"Top 50 Words in ham Corpus\")\n",
    "ax.set_ylabel(\"Frequency\")\n",
    "\n",
    "# Show the plot\n",
    "sns.despine()\n",
    "plt.tight_layout()\n",
    "plt.show()\n"
   ]
  },
  {
   "cell_type": "code",
   "execution_count": 63,
   "id": "969dc5b2",
   "metadata": {},
   "outputs": [
    {
     "data": {
      "text/html": [
       "<div>\n",
       "<style scoped>\n",
       "    .dataframe tbody tr th:only-of-type {\n",
       "        vertical-align: middle;\n",
       "    }\n",
       "\n",
       "    .dataframe tbody tr th {\n",
       "        vertical-align: top;\n",
       "    }\n",
       "\n",
       "    .dataframe thead th {\n",
       "        text-align: right;\n",
       "    }\n",
       "</style>\n",
       "<table border=\"1\" class=\"dataframe\">\n",
       "  <thead>\n",
       "    <tr style=\"text-align: right;\">\n",
       "      <th></th>\n",
       "      <th>Target</th>\n",
       "      <th>Information</th>\n",
       "      <th>count_of_sent</th>\n",
       "      <th>count_of_words</th>\n",
       "      <th>count_of_charact</th>\n",
       "      <th>Updated_text</th>\n",
       "    </tr>\n",
       "  </thead>\n",
       "  <tbody>\n",
       "    <tr>\n",
       "      <th>0</th>\n",
       "      <td>0</td>\n",
       "      <td>Go until jurong point, crazy.. Available only ...</td>\n",
       "      <td>2</td>\n",
       "      <td>24</td>\n",
       "      <td>111</td>\n",
       "      <td>go jurong point crazi avail bugi n great world...</td>\n",
       "    </tr>\n",
       "    <tr>\n",
       "      <th>1</th>\n",
       "      <td>0</td>\n",
       "      <td>Ok lar... Joking wif u oni...</td>\n",
       "      <td>2</td>\n",
       "      <td>8</td>\n",
       "      <td>29</td>\n",
       "      <td>ok lar joke wif u oni</td>\n",
       "    </tr>\n",
       "    <tr>\n",
       "      <th>2</th>\n",
       "      <td>1</td>\n",
       "      <td>Free entry in 2 a wkly comp to win FA Cup fina...</td>\n",
       "      <td>2</td>\n",
       "      <td>37</td>\n",
       "      <td>155</td>\n",
       "      <td>free entri 2 wkli comp win fa cup final tkt 21...</td>\n",
       "    </tr>\n",
       "    <tr>\n",
       "      <th>3</th>\n",
       "      <td>0</td>\n",
       "      <td>U dun say so early hor... U c already then say...</td>\n",
       "      <td>1</td>\n",
       "      <td>13</td>\n",
       "      <td>49</td>\n",
       "      <td>u dun say earli hor u c alreadi say</td>\n",
       "    </tr>\n",
       "    <tr>\n",
       "      <th>4</th>\n",
       "      <td>0</td>\n",
       "      <td>Nah I don't think he goes to usf, he lives aro...</td>\n",
       "      <td>1</td>\n",
       "      <td>15</td>\n",
       "      <td>61</td>\n",
       "      <td>nah think goe usf live around though</td>\n",
       "    </tr>\n",
       "  </tbody>\n",
       "</table>\n",
       "</div>"
      ],
      "text/plain": [
       "   Target                                        Information  count_of_sent  \\\n",
       "0       0  Go until jurong point, crazy.. Available only ...              2   \n",
       "1       0                      Ok lar... Joking wif u oni...              2   \n",
       "2       1  Free entry in 2 a wkly comp to win FA Cup fina...              2   \n",
       "3       0  U dun say so early hor... U c already then say...              1   \n",
       "4       0  Nah I don't think he goes to usf, he lives aro...              1   \n",
       "\n",
       "   count_of_words  count_of_charact  \\\n",
       "0              24               111   \n",
       "1               8                29   \n",
       "2              37               155   \n",
       "3              13                49   \n",
       "4              15                61   \n",
       "\n",
       "                                        Updated_text  \n",
       "0  go jurong point crazi avail bugi n great world...  \n",
       "1                              ok lar joke wif u oni  \n",
       "2  free entri 2 wkli comp win fa cup final tkt 21...  \n",
       "3                u dun say earli hor u c alreadi say  \n",
       "4               nah think goe usf live around though  "
      ]
     },
     "execution_count": 63,
     "metadata": {},
     "output_type": "execute_result"
    }
   ],
   "source": [
    "# Text Vectorization\n",
    "# using Bag of Words\n",
    "df.head()"
   ]
  },
  {
   "cell_type": "markdown",
   "id": "059e86ef",
   "metadata": {},
   "source": [
    "# 4th_step: Apply spam filter algorithms"
   ]
  },
  {
   "cell_type": "code",
   "execution_count": 579,
   "id": "48e3bd1d",
   "metadata": {},
   "outputs": [],
   "source": [
    "from sklearn.feature_extraction.text import CountVectorizer,TfidfVectorizer\n",
    "cv = CountVectorizer() ## it is use that how much time a word can accure in one sentence (like frquency of accuring the word)\n",
    "tfidf = TfidfVectorizer(max_features=3000) ## it is not the frquency of single word in sentence but also at which level it occurs in the overall csv file, it is inverse so the most accuring word, frquency accuring will be less than the other "
   ]
  },
  {
   "cell_type": "code",
   "execution_count": 580,
   "id": "7385dad6",
   "metadata": {},
   "outputs": [],
   "source": [
    "X = tfidf.fit_transform(df['Updated_text']).toarray() # convert the Updated_text content into the sparse array for training"
   ]
  },
  {
   "cell_type": "code",
   "execution_count": 581,
   "id": "2133d0e8",
   "metadata": {},
   "outputs": [],
   "source": [
    "from sklearn.preprocessing import MinMaxScaler\n",
    "scaler = MinMaxScaler()\n",
    "X = scaler.fit_transform(X)"
   ]
  },
  {
   "cell_type": "code",
   "execution_count": 582,
   "id": "f294a566",
   "metadata": {},
   "outputs": [],
   "source": [
    "# # appending the num_character col to X\n",
    "X = np.hstack((X,df['count_of_charact'].values.reshape(-1,1)))"
   ]
  },
  {
   "cell_type": "code",
   "execution_count": 583,
   "id": "f24ae5b5",
   "metadata": {},
   "outputs": [
    {
     "data": {
      "text/plain": [
       "(5169, 3001)"
      ]
     },
     "execution_count": 583,
     "metadata": {},
     "output_type": "execute_result"
    }
   ],
   "source": [
    "#now its the shape of the sparse two dimentional array\n",
    "X.shape"
   ]
  },
  {
   "cell_type": "code",
   "execution_count": 584,
   "id": "f9063bbf",
   "metadata": {},
   "outputs": [
    {
     "name": "stdout",
     "output_type": "stream",
     "text": [
      "[0 0 1 ... 0 0 0]\n"
     ]
    }
   ],
   "source": [
    "#These are the target values or output values\n",
    "y = df['Target'].values\n",
    "print(y)"
   ]
  },
  {
   "cell_type": "code",
   "execution_count": 585,
   "id": "2a2eb5dd",
   "metadata": {},
   "outputs": [],
   "source": [
    "#Library for model selection which can aslo use to split the data for testing and training\n",
    "from sklearn.model_selection import train_test_split"
   ]
  },
  {
   "cell_type": "markdown",
   "id": "109824bb",
   "metadata": {},
   "source": [
    "# 5th_step: Split data into Train and Test"
   ]
  },
  {
   "cell_type": "code",
   "execution_count": 586,
   "id": "cf6b3d80",
   "metadata": {},
   "outputs": [],
   "source": [
    "# Here is the data split into 30% of testing data and the remainig data is for training which is 70%\n",
    "X_train,X_test,y_train,y_test = train_test_split(X,y,test_size=0.3,random_state=2)"
   ]
  },
  {
   "cell_type": "code",
   "execution_count": 587,
   "id": "3fa78284",
   "metadata": {},
   "outputs": [],
   "source": [
    "#Now we will use a model to do classification for us which are naive bayes in this because it is found that it work will on text data\n",
    "#Here are the different naive bayes will use for traning and we will print the result and will focus on accuracy of the each model\n",
    "from sklearn.naive_bayes import GaussianNB,MultinomialNB,BernoulliNB\n",
    "#Below are the grah and matrix for finding accuracy.\n",
    "from sklearn.metrics import accuracy_score,confusion_matrix,precision_score"
   ]
  },
  {
   "cell_type": "code",
   "execution_count": 588,
   "id": "16cd93fd",
   "metadata": {},
   "outputs": [],
   "source": [
    "#given object or name to each model\n",
    "gnb = GaussianNB()\n",
    "mnb = MultinomialNB()\n",
    "bnb = BernoulliNB()"
   ]
  },
  {
   "cell_type": "markdown",
   "id": "1f265c94",
   "metadata": {},
   "source": [
    "# 6th_step: Precision, Accuracy and confution Matrix"
   ]
  },
  {
   "cell_type": "code",
   "execution_count": 589,
   "id": "8711f435",
   "metadata": {},
   "outputs": [
    {
     "name": "stdout",
     "output_type": "stream",
     "text": [
      "Acuracy score of gnb:  0.8878143133462283\n",
      "Confusion Matrix of gnb: \n",
      " [[1213  147]\n",
      " [  27  164]]\n",
      "Precision score of gnb: 0.5273311897106109\n"
     ]
    }
   ],
   "source": [
    "gnb.fit(X_train,y_train)\n",
    "y_pred1 = gnb.predict(X_test)\n",
    "print(\"Acuracy score of gnb: \",accuracy_score(y_test,y_pred1))\n",
    "print(\"Confusion Matrix of gnb: \\n\", confusion_matrix(y_test,y_pred1))\n",
    "print(\"Precision score of gnb:\", precision_score(y_test,y_pred1))"
   ]
  },
  {
   "cell_type": "code",
   "execution_count": 590,
   "id": "73f1cf9d",
   "metadata": {},
   "outputs": [
    {
     "name": "stdout",
     "output_type": "stream",
     "text": [
      "Acuracy score of mnb:  0.9748549323017408\n",
      "Confusion Matrix of mnb: \n",
      " [[1354    6]\n",
      " [  33  158]]\n",
      "Precision score of mnb: 0.9634146341463414\n"
     ]
    }
   ],
   "source": [
    "#We will select this model because we have imbalace data like ham is much more greater than spam so we should mainly focus on precision as compared to accuracy\n",
    "mnb.fit(X_train,y_train)\n",
    "y_pred2 = mnb.predict(X_test)\n",
    "print(\"Acuracy score of mnb: \",accuracy_score(y_test,y_pred2))\n",
    "print(\"Confusion Matrix of mnb: \\n\",confusion_matrix(y_test,y_pred2))\n",
    "print(\"Precision score of mnb:\",precision_score(y_test,y_pred2))"
   ]
  },
  {
   "cell_type": "code",
   "execution_count": 591,
   "id": "7111164f",
   "metadata": {},
   "outputs": [
    {
     "name": "stdout",
     "output_type": "stream",
     "text": [
      "Acuracy score of bnb:  0.9819471308833011\n",
      "Confusion Matrix of bnb: \n",
      " [[1358    2]\n",
      " [  26  165]]\n",
      "Precision score of bnb: 0.9880239520958084\n"
     ]
    }
   ],
   "source": [
    "bnb.fit(X_train,y_train)\n",
    "y_pred3 = bnb.predict(X_test)\n",
    "print(\"Acuracy score of bnb: \",accuracy_score(y_test,y_pred3))\n",
    "print(\"Confusion Matrix of bnb: \\n\",confusion_matrix(y_test,y_pred3))\n",
    "print(\"Precision score of bnb:\",precision_score(y_test,y_pred3))"
   ]
  },
  {
   "cell_type": "code",
   "execution_count": 592,
   "id": "29d6ceeb",
   "metadata": {},
   "outputs": [
    {
     "name": "stdout",
     "output_type": "stream",
     "text": [
      "Acuracy score of bnb:  0.9742101869761445\n",
      "Confusion Matrix of bnb: \n",
      " [[1348   12]\n",
      " [  28  163]]\n",
      "Precision score of bnb: 0.9314285714285714\n"
     ]
    }
   ],
   "source": [
    "from sklearn.ensemble import HistGradientBoostingClassifier\n",
    "Histo = HistGradientBoostingClassifier()\n",
    "Histo.fit(X_train,y_train)\n",
    "y_pred4 = Histo.predict(X_test)\n",
    "print(\"Acuracy score of bnb: \",accuracy_score(y_test,y_pred4))\n",
    "print(\"Confusion Matrix of bnb: \\n\",confusion_matrix(y_test,y_pred4))\n",
    "print(\"Precision score of bnb:\",precision_score(y_test,y_pred4))"
   ]
  },
  {
   "cell_type": "code",
   "execution_count": 612,
   "id": "15e59549",
   "metadata": {},
   "outputs": [
    {
     "name": "stdout",
     "output_type": "stream",
     "text": [
      "Acuracy score of bnb:  0.9748549323017408\n",
      "Confusion Matrix of bnb: \n",
      " [[1354    6]\n",
      " [  33  158]]\n",
      "Precision score of bnb: 0.9634146341463414\n"
     ]
    }
   ],
   "source": [
    "from sklearn.naive_bayes import MultinomialNB\n",
    "mnb = MultinomialNB()\n",
    "mnb.fit(X_train,y_train)\n",
    "y_pred5 = mnb.predict(X_test)\n",
    "print(\"Acuracy score of bnb: \",accuracy_score(y_test,y_pred5))\n",
    "print(\"Confusion Matrix of bnb: \\n\",confusion_matrix(y_test,y_pred5))\n",
    "print(\"Precision score of bnb:\",precision_score(y_test,y_pred5))"
   ]
  },
  {
   "cell_type": "code",
   "execution_count": 593,
   "id": "7d259cb5",
   "metadata": {},
   "outputs": [],
   "source": [
    "from sklearn.discriminant_analysis import LinearDiscriminantAnalysis\n",
    "from sklearn.linear_model import Perceptron\n",
    "from sklearn.ensemble import HistGradientBoostingClassifier\n",
    "from sklearn.linear_model import LogisticRegression\n",
    "from sklearn.svm import SVC\n",
    "from sklearn.naive_bayes import MultinomialNB\n",
    "from sklearn.tree import DecisionTreeClassifier\n",
    "from sklearn.neighbors import KNeighborsClassifier\n",
    "from sklearn.ensemble import RandomForestClassifier\n",
    "from sklearn.ensemble import AdaBoostClassifier\n",
    "from sklearn.ensemble import BaggingClassifier\n",
    "from sklearn.ensemble import ExtraTreesClassifier\n",
    "from sklearn.ensemble import GradientBoostingClassifier\n",
    "from xgboost import XGBClassifier\n"
   ]
  },
  {
   "cell_type": "code",
   "execution_count": 594,
   "id": "896fb06b",
   "metadata": {},
   "outputs": [],
   "source": [
    "lda = LinearDiscriminantAnalysis()\n",
    "prec = Perceptron()\n",
    "hbc = HistGradientBoostingClassifier()\n",
    "svc = SVC(kernel='sigmoid', gamma=1.0)\n",
    "knc = KNeighborsClassifier()\n",
    "mnb = MultinomialNB()\n",
    "dtc = DecisionTreeClassifier(max_depth=5)\n",
    "lrc = LogisticRegression(solver='liblinear', penalty='l1')\n",
    "rfc = RandomForestClassifier(n_estimators=50, random_state=2)\n",
    "abc = AdaBoostClassifier(n_estimators=50, random_state=2)\n",
    "bc = BaggingClassifier(n_estimators=50, random_state=2)\n",
    "etc = ExtraTreesClassifier(n_estimators=50, random_state=2)\n",
    "gbdt = GradientBoostingClassifier(n_estimators=50,random_state=2)\n",
    "xgb = XGBClassifier(n_estimators=50,random_state=2)"
   ]
  },
  {
   "cell_type": "code",
   "execution_count": 595,
   "id": "9a5d6a2d",
   "metadata": {},
   "outputs": [],
   "source": [
    "Models = {\n",
    "    'LDA' :lda,\n",
    "    'PERCEP' : prec,\n",
    "    'HBC' : hbc,\n",
    "    'SVC' : svc,\n",
    "    'KN' : knc, \n",
    "    'NB': mnb, \n",
    "    'DT': dtc, \n",
    "    'LR': lrc, \n",
    "    'RF': rfc, \n",
    "    'AdaBoost': abc, \n",
    "    'BgC': bc, \n",
    "    'ETC': etc,\n",
    "    'GBDT':gbdt,\n",
    "    'xgb':xgb\n",
    "}"
   ]
  },
  {
   "cell_type": "code",
   "execution_count": 596,
   "id": "75bacdb5",
   "metadata": {},
   "outputs": [],
   "source": [
    "def train_classifier(Model,X_train,y_train,X_test,y_test):\n",
    "    Model.fit(X_train,y_train)\n",
    "    y_pred = Model.predict(X_test)\n",
    "    accuracy = accuracy_score(y_test,y_pred)\n",
    "    precision = precision_score(y_test,y_pred,zero_division=1)\n",
    "    \n",
    "    return accuracy,precision"
   ]
  },
  {
   "cell_type": "code",
   "execution_count": 597,
   "id": "54b5d08c",
   "metadata": {},
   "outputs": [
    {
     "name": "stdout",
     "output_type": "stream",
     "text": [
      "For  LDA\n",
      "Accuracy -  0.9058671824629272\n",
      "Precision -  0.5925925925925926\n",
      "For  PERCEP\n",
      "Accuracy -  0.8768536428110896\n",
      "Precision -  1.0\n",
      "For  HBC\n",
      "Accuracy -  0.9742101869761445\n",
      "Precision -  0.9314285714285714\n",
      "For  SVC\n",
      "Accuracy -  0.8768536428110896\n",
      "Precision -  1.0\n",
      "For  KN\n",
      "Accuracy -  0.8955512572533849\n",
      "Precision -  0.7959183673469388\n",
      "For  NB\n",
      "Accuracy -  0.9748549323017408\n",
      "Precision -  0.9634146341463414\n",
      "For  DT\n",
      "Accuracy -  0.9432624113475178\n",
      "Precision -  0.8759124087591241\n",
      "For  LR\n",
      "Accuracy -  0.9645390070921985\n",
      "Precision -  0.9533333333333334\n",
      "For  RF\n",
      "Accuracy -  0.9722759509993553\n",
      "Precision -  0.9805194805194806\n",
      "For  AdaBoost\n",
      "Accuracy -  0.9593810444874274\n",
      "Precision -  0.9\n",
      "For  BgC\n",
      "Accuracy -  0.9587362991618311\n",
      "Precision -  0.8802395209580839\n",
      "For  ETC\n",
      "Accuracy -  0.9806576402321083\n",
      "Precision -  0.9878787878787879\n",
      "For  GBDT\n",
      "Accuracy -  0.9548678272082527\n",
      "Precision -  0.9115646258503401\n",
      "For  xgb\n",
      "Accuracy -  0.9696969696969697\n",
      "Precision -  0.95\n"
     ]
    }
   ],
   "source": [
    "accuracy_scores = []\n",
    "precision_scores = []\n",
    "\n",
    "for name,Model in Models.items():\n",
    "    \n",
    "    current_accuracy,current_precision = train_classifier(Model, X_train,y_train,X_test,y_test)\n",
    "#     current_precision = precision_score(y_test, y_train, zero_division=1)\n",
    "    \n",
    "    print(\"For \",name)\n",
    "    print(\"Accuracy - \",current_accuracy)\n",
    "    print(\"Precision - \",current_precision)\n",
    "    \n",
    "    accuracy_scores.append(current_accuracy)\n",
    "    precision_scores.append(current_precision)"
   ]
  },
  {
   "cell_type": "code",
   "execution_count": 475,
   "id": "247fdde7",
   "metadata": {},
   "outputs": [
    {
     "data": {
      "text/html": [
       "<div>\n",
       "<style scoped>\n",
       "    .dataframe tbody tr th:only-of-type {\n",
       "        vertical-align: middle;\n",
       "    }\n",
       "\n",
       "    .dataframe tbody tr th {\n",
       "        vertical-align: top;\n",
       "    }\n",
       "\n",
       "    .dataframe thead th {\n",
       "        text-align: right;\n",
       "    }\n",
       "</style>\n",
       "<table border=\"1\" class=\"dataframe\">\n",
       "  <thead>\n",
       "    <tr style=\"text-align: right;\">\n",
       "      <th></th>\n",
       "      <th>Models</th>\n",
       "      <th>Accuracy</th>\n",
       "      <th>Precision</th>\n",
       "    </tr>\n",
       "  </thead>\n",
       "  <tbody>\n",
       "    <tr>\n",
       "      <th>1</th>\n",
       "      <td>PERCEP</td>\n",
       "      <td>0.933591</td>\n",
       "      <td>1.000000</td>\n",
       "    </tr>\n",
       "    <tr>\n",
       "      <th>4</th>\n",
       "      <td>KN</td>\n",
       "      <td>0.903933</td>\n",
       "      <td>1.000000</td>\n",
       "    </tr>\n",
       "    <tr>\n",
       "      <th>5</th>\n",
       "      <td>NB</td>\n",
       "      <td>0.955513</td>\n",
       "      <td>1.000000</td>\n",
       "    </tr>\n",
       "    <tr>\n",
       "      <th>8</th>\n",
       "      <td>RF</td>\n",
       "      <td>0.972276</td>\n",
       "      <td>0.993333</td>\n",
       "    </tr>\n",
       "    <tr>\n",
       "      <th>11</th>\n",
       "      <td>ETC</td>\n",
       "      <td>0.977434</td>\n",
       "      <td>0.981481</td>\n",
       "    </tr>\n",
       "    <tr>\n",
       "      <th>3</th>\n",
       "      <td>SVC</td>\n",
       "      <td>0.974210</td>\n",
       "      <td>0.974843</td>\n",
       "    </tr>\n",
       "    <tr>\n",
       "      <th>9</th>\n",
       "      <td>AdaBoost</td>\n",
       "      <td>0.964539</td>\n",
       "      <td>0.930380</td>\n",
       "    </tr>\n",
       "    <tr>\n",
       "      <th>7</th>\n",
       "      <td>LR</td>\n",
       "      <td>0.949065</td>\n",
       "      <td>0.924242</td>\n",
       "    </tr>\n",
       "    <tr>\n",
       "      <th>2</th>\n",
       "      <td>HBC</td>\n",
       "      <td>0.972921</td>\n",
       "      <td>0.916201</td>\n",
       "    </tr>\n",
       "    <tr>\n",
       "      <th>13</th>\n",
       "      <td>xgb</td>\n",
       "      <td>0.964539</td>\n",
       "      <td>0.914634</td>\n",
       "    </tr>\n",
       "    <tr>\n",
       "      <th>12</th>\n",
       "      <td>GBDT</td>\n",
       "      <td>0.949710</td>\n",
       "      <td>0.889655</td>\n",
       "    </tr>\n",
       "    <tr>\n",
       "      <th>10</th>\n",
       "      <td>BgC</td>\n",
       "      <td>0.961315</td>\n",
       "      <td>0.865922</td>\n",
       "    </tr>\n",
       "    <tr>\n",
       "      <th>0</th>\n",
       "      <td>LDA</td>\n",
       "      <td>0.943907</td>\n",
       "      <td>0.846667</td>\n",
       "    </tr>\n",
       "    <tr>\n",
       "      <th>6</th>\n",
       "      <td>DT</td>\n",
       "      <td>0.938104</td>\n",
       "      <td>0.814570</td>\n",
       "    </tr>\n",
       "  </tbody>\n",
       "</table>\n",
       "</div>"
      ],
      "text/plain": [
       "      Models  Accuracy  Precision\n",
       "1     PERCEP  0.933591   1.000000\n",
       "4         KN  0.903933   1.000000\n",
       "5         NB  0.955513   1.000000\n",
       "8         RF  0.972276   0.993333\n",
       "11       ETC  0.977434   0.981481\n",
       "3        SVC  0.974210   0.974843\n",
       "9   AdaBoost  0.964539   0.930380\n",
       "7         LR  0.949065   0.924242\n",
       "2        HBC  0.972921   0.916201\n",
       "13       xgb  0.964539   0.914634\n",
       "12      GBDT  0.949710   0.889655\n",
       "10       BgC  0.961315   0.865922\n",
       "0        LDA  0.943907   0.846667\n",
       "6         DT  0.938104   0.814570"
      ]
     },
     "execution_count": 475,
     "metadata": {},
     "output_type": "execute_result"
    }
   ],
   "source": [
    "#Simple precion and accuracy, run this cell for using printing the results of accuracy and precision, in which max_feature is all the dataset\n",
    "Results_df = pd.DataFrame({'Models':Models.keys(),'Accuracy':accuracy_scores,'Precision':precision_scores}).sort_values('Precision',ascending=False)\n",
    "Results_df"
   ]
  },
  {
   "cell_type": "code",
   "execution_count": 476,
   "id": "dc8a1bdc",
   "metadata": {},
   "outputs": [
    {
     "data": {
      "image/png": "[encoded data removed]",
      "text/plain": [
       "<Figure size 918x800 with 1 Axes>"
      ]
     },
     "metadata": {},
     "output_type": "display_data"
    }
   ],
   "source": [
    "##Lets Visualize the graph for the Results_df\n",
    "Results_dfa = pd.melt(Results_df, id_vars = \"Models\")\n",
    "sns.catplot(x = 'Models', y='value', \n",
    "               hue = 'variable',data=Results_dfa, kind='bar',height=8)\n",
    "plt.ylim(0.5,1.0)\n",
    "plt.xticks(rotation='vertical')\n",
    "plt.show()"
   ]
  },
  {
   "cell_type": "code",
   "execution_count": 576,
   "id": "cd734f54",
   "metadata": {},
   "outputs": [
    {
     "data": {
      "text/html": [
       "<div>\n",
       "<style scoped>\n",
       "    .dataframe tbody tr th:only-of-type {\n",
       "        vertical-align: middle;\n",
       "    }\n",
       "\n",
       "    .dataframe tbody tr th {\n",
       "        vertical-align: top;\n",
       "    }\n",
       "\n",
       "    .dataframe thead th {\n",
       "        text-align: right;\n",
       "    }\n",
       "</style>\n",
       "<table border=\"1\" class=\"dataframe\">\n",
       "  <thead>\n",
       "    <tr style=\"text-align: right;\">\n",
       "      <th></th>\n",
       "      <th>Models</th>\n",
       "      <th>ON max feature 3000 acuraccy</th>\n",
       "      <th>ON max feature 3000 acuraccy Precision</th>\n",
       "    </tr>\n",
       "  </thead>\n",
       "  <tbody>\n",
       "    <tr>\n",
       "      <th>4</th>\n",
       "      <td>KN</td>\n",
       "      <td>0.909091</td>\n",
       "      <td>1.000000</td>\n",
       "    </tr>\n",
       "    <tr>\n",
       "      <th>5</th>\n",
       "      <td>NB</td>\n",
       "      <td>0.971631</td>\n",
       "      <td>1.000000</td>\n",
       "    </tr>\n",
       "    <tr>\n",
       "      <th>8</th>\n",
       "      <td>RF</td>\n",
       "      <td>0.972921</td>\n",
       "      <td>0.980645</td>\n",
       "    </tr>\n",
       "    <tr>\n",
       "      <th>3</th>\n",
       "      <td>SVC</td>\n",
       "      <td>0.974855</td>\n",
       "      <td>0.975000</td>\n",
       "    </tr>\n",
       "    <tr>\n",
       "      <th>11</th>\n",
       "      <td>ETC</td>\n",
       "      <td>0.977434</td>\n",
       "      <td>0.964286</td>\n",
       "    </tr>\n",
       "    <tr>\n",
       "      <th>12</th>\n",
       "      <td>GBDT</td>\n",
       "      <td>0.952289</td>\n",
       "      <td>0.939850</td>\n",
       "    </tr>\n",
       "    <tr>\n",
       "      <th>13</th>\n",
       "      <td>xgb</td>\n",
       "      <td>0.964539</td>\n",
       "      <td>0.935897</td>\n",
       "    </tr>\n",
       "    <tr>\n",
       "      <th>2</th>\n",
       "      <td>HBC</td>\n",
       "      <td>0.971631</td>\n",
       "      <td>0.934911</td>\n",
       "    </tr>\n",
       "    <tr>\n",
       "      <th>7</th>\n",
       "      <td>LR</td>\n",
       "      <td>0.952289</td>\n",
       "      <td>0.933333</td>\n",
       "    </tr>\n",
       "    <tr>\n",
       "      <th>9</th>\n",
       "      <td>AdaBoost</td>\n",
       "      <td>0.958736</td>\n",
       "      <td>0.915033</td>\n",
       "    </tr>\n",
       "    <tr>\n",
       "      <th>1</th>\n",
       "      <td>PERCEP</td>\n",
       "      <td>0.976789</td>\n",
       "      <td>0.910053</td>\n",
       "    </tr>\n",
       "    <tr>\n",
       "      <th>10</th>\n",
       "      <td>BgC</td>\n",
       "      <td>0.960026</td>\n",
       "      <td>0.864407</td>\n",
       "    </tr>\n",
       "    <tr>\n",
       "      <th>6</th>\n",
       "      <td>DT</td>\n",
       "      <td>0.935525</td>\n",
       "      <td>0.813793</td>\n",
       "    </tr>\n",
       "    <tr>\n",
       "      <th>0</th>\n",
       "      <td>LDA</td>\n",
       "      <td>0.910380</td>\n",
       "      <td>0.607438</td>\n",
       "    </tr>\n",
       "  </tbody>\n",
       "</table>\n",
       "</div>"
      ],
      "text/plain": [
       "      Models  ON max feature 3000 acuraccy  \\\n",
       "4         KN                      0.909091   \n",
       "5         NB                      0.971631   \n",
       "8         RF                      0.972921   \n",
       "3        SVC                      0.974855   \n",
       "11       ETC                      0.977434   \n",
       "12      GBDT                      0.952289   \n",
       "13       xgb                      0.964539   \n",
       "2        HBC                      0.971631   \n",
       "7         LR                      0.952289   \n",
       "9   AdaBoost                      0.958736   \n",
       "1     PERCEP                      0.976789   \n",
       "10       BgC                      0.960026   \n",
       "6         DT                      0.935525   \n",
       "0        LDA                      0.910380   \n",
       "\n",
       "    ON max feature 3000 acuraccy Precision  \n",
       "4                                 1.000000  \n",
       "5                                 1.000000  \n",
       "8                                 0.980645  \n",
       "3                                 0.975000  \n",
       "11                                0.964286  \n",
       "12                                0.939850  \n",
       "13                                0.935897  \n",
       "2                                 0.934911  \n",
       "7                                 0.933333  \n",
       "9                                 0.915033  \n",
       "1                                 0.910053  \n",
       "10                                0.864407  \n",
       "6                                 0.813793  \n",
       "0                                 0.607438  "
      ]
     },
     "execution_count": 576,
     "metadata": {},
     "output_type": "execute_result"
    }
   ],
   "source": [
    "#precion and accuracy for max_feature length  = 3000,  run this cell for printing the results of accuracy and precision, using max_feature of 4500 in above TfidfVectorizer(max_features=3000)\n",
    "Results_df1 = pd.DataFrame({'Models':Models.keys(),'ON max feature 3000 acuraccy':accuracy_scores,'ON max feature 3000 acuraccy Precision':precision_scores}).sort_values('ON max feature 3000 acuraccy Precision',ascending=False)\n",
    "Results_df1"
   ]
  },
  {
   "cell_type": "code",
   "execution_count": 577,
   "id": "f41f80ef",
   "metadata": {},
   "outputs": [
    {
     "data": {
      "image/png": "[encoded data removed]",
      "text/plain": [
       "<Figure size 1133.88x800 with 1 Axes>"
      ]
     },
     "metadata": {},
     "output_type": "display_data"
    }
   ],
   "source": [
    "##Lets Visualize the graph for the Results_df1\n",
    "Results_dfb = pd.melt(Results_df1, id_vars = \"Models\")\n",
    "sns.catplot(x = 'Models', y='value', \n",
    "               hue = 'variable',data=Results_dfb, kind='bar',height=8)\n",
    "plt.ylim(0.5,1.0)\n",
    "plt.xticks(rotation='vertical')\n",
    "plt.show()"
   ]
  },
  {
   "cell_type": "code",
   "execution_count": 599,
   "id": "96cd5e07",
   "metadata": {},
   "outputs": [
    {
     "data": {
      "text/html": [
       "<div>\n",
       "<style scoped>\n",
       "    .dataframe tbody tr th:only-of-type {\n",
       "        vertical-align: middle;\n",
       "    }\n",
       "\n",
       "    .dataframe tbody tr th {\n",
       "        vertical-align: top;\n",
       "    }\n",
       "\n",
       "    .dataframe thead th {\n",
       "        text-align: right;\n",
       "    }\n",
       "</style>\n",
       "<table border=\"1\" class=\"dataframe\">\n",
       "  <thead>\n",
       "    <tr style=\"text-align: right;\">\n",
       "      <th></th>\n",
       "      <th>Models</th>\n",
       "      <th>Accuracy</th>\n",
       "      <th>Precision</th>\n",
       "      <th>ON max feature 3000 acuraccy</th>\n",
       "      <th>ON max feature 3000 acuraccy Precision</th>\n",
       "    </tr>\n",
       "  </thead>\n",
       "  <tbody>\n",
       "    <tr>\n",
       "      <th>0</th>\n",
       "      <td>PERCEP</td>\n",
       "      <td>0.933591</td>\n",
       "      <td>1.000000</td>\n",
       "      <td>0.976789</td>\n",
       "      <td>0.910053</td>\n",
       "    </tr>\n",
       "    <tr>\n",
       "      <th>1</th>\n",
       "      <td>KN</td>\n",
       "      <td>0.903933</td>\n",
       "      <td>1.000000</td>\n",
       "      <td>0.909091</td>\n",
       "      <td>1.000000</td>\n",
       "    </tr>\n",
       "    <tr>\n",
       "      <th>2</th>\n",
       "      <td>NB</td>\n",
       "      <td>0.955513</td>\n",
       "      <td>1.000000</td>\n",
       "      <td>0.971631</td>\n",
       "      <td>1.000000</td>\n",
       "    </tr>\n",
       "    <tr>\n",
       "      <th>3</th>\n",
       "      <td>RF</td>\n",
       "      <td>0.972276</td>\n",
       "      <td>0.993333</td>\n",
       "      <td>0.972921</td>\n",
       "      <td>0.980645</td>\n",
       "    </tr>\n",
       "    <tr>\n",
       "      <th>4</th>\n",
       "      <td>ETC</td>\n",
       "      <td>0.977434</td>\n",
       "      <td>0.981481</td>\n",
       "      <td>0.977434</td>\n",
       "      <td>0.964286</td>\n",
       "    </tr>\n",
       "    <tr>\n",
       "      <th>5</th>\n",
       "      <td>SVC</td>\n",
       "      <td>0.974210</td>\n",
       "      <td>0.974843</td>\n",
       "      <td>0.974855</td>\n",
       "      <td>0.975000</td>\n",
       "    </tr>\n",
       "    <tr>\n",
       "      <th>6</th>\n",
       "      <td>AdaBoost</td>\n",
       "      <td>0.964539</td>\n",
       "      <td>0.930380</td>\n",
       "      <td>0.958736</td>\n",
       "      <td>0.915033</td>\n",
       "    </tr>\n",
       "    <tr>\n",
       "      <th>7</th>\n",
       "      <td>LR</td>\n",
       "      <td>0.949065</td>\n",
       "      <td>0.924242</td>\n",
       "      <td>0.952289</td>\n",
       "      <td>0.933333</td>\n",
       "    </tr>\n",
       "    <tr>\n",
       "      <th>8</th>\n",
       "      <td>HBC</td>\n",
       "      <td>0.972921</td>\n",
       "      <td>0.916201</td>\n",
       "      <td>0.971631</td>\n",
       "      <td>0.934911</td>\n",
       "    </tr>\n",
       "    <tr>\n",
       "      <th>9</th>\n",
       "      <td>xgb</td>\n",
       "      <td>0.964539</td>\n",
       "      <td>0.914634</td>\n",
       "      <td>0.964539</td>\n",
       "      <td>0.935897</td>\n",
       "    </tr>\n",
       "    <tr>\n",
       "      <th>10</th>\n",
       "      <td>GBDT</td>\n",
       "      <td>0.949710</td>\n",
       "      <td>0.889655</td>\n",
       "      <td>0.952289</td>\n",
       "      <td>0.939850</td>\n",
       "    </tr>\n",
       "    <tr>\n",
       "      <th>11</th>\n",
       "      <td>BgC</td>\n",
       "      <td>0.961315</td>\n",
       "      <td>0.865922</td>\n",
       "      <td>0.960026</td>\n",
       "      <td>0.864407</td>\n",
       "    </tr>\n",
       "    <tr>\n",
       "      <th>12</th>\n",
       "      <td>LDA</td>\n",
       "      <td>0.943907</td>\n",
       "      <td>0.846667</td>\n",
       "      <td>0.910380</td>\n",
       "      <td>0.607438</td>\n",
       "    </tr>\n",
       "    <tr>\n",
       "      <th>13</th>\n",
       "      <td>DT</td>\n",
       "      <td>0.938104</td>\n",
       "      <td>0.814570</td>\n",
       "      <td>0.935525</td>\n",
       "      <td>0.813793</td>\n",
       "    </tr>\n",
       "  </tbody>\n",
       "</table>\n",
       "</div>"
      ],
      "text/plain": [
       "      Models  Accuracy  Precision  ON max feature 3000 acuraccy  \\\n",
       "0     PERCEP  0.933591   1.000000                      0.976789   \n",
       "1         KN  0.903933   1.000000                      0.909091   \n",
       "2         NB  0.955513   1.000000                      0.971631   \n",
       "3         RF  0.972276   0.993333                      0.972921   \n",
       "4        ETC  0.977434   0.981481                      0.977434   \n",
       "5        SVC  0.974210   0.974843                      0.974855   \n",
       "6   AdaBoost  0.964539   0.930380                      0.958736   \n",
       "7         LR  0.949065   0.924242                      0.952289   \n",
       "8        HBC  0.972921   0.916201                      0.971631   \n",
       "9        xgb  0.964539   0.914634                      0.964539   \n",
       "10      GBDT  0.949710   0.889655                      0.952289   \n",
       "11       BgC  0.961315   0.865922                      0.960026   \n",
       "12       LDA  0.943907   0.846667                      0.910380   \n",
       "13        DT  0.938104   0.814570                      0.935525   \n",
       "\n",
       "    ON max feature 3000 acuraccy Precision  \n",
       "0                                 0.910053  \n",
       "1                                 1.000000  \n",
       "2                                 1.000000  \n",
       "3                                 0.980645  \n",
       "4                                 0.964286  \n",
       "5                                 0.975000  \n",
       "6                                 0.915033  \n",
       "7                                 0.933333  \n",
       "8                                 0.934911  \n",
       "9                                 0.935897  \n",
       "10                                0.939850  \n",
       "11                                0.864407  \n",
       "12                                0.607438  \n",
       "13                                0.813793  "
      ]
     },
     "execution_count": 599,
     "metadata": {},
     "output_type": "execute_result"
    }
   ],
   "source": [
    "#Marging both the Results_df and Results_df1\n",
    "merged_df = Results_df.merge(Results_df1, on='Models')\n",
    "merged_df"
   ]
  },
  {
   "cell_type": "code",
   "execution_count": 598,
   "id": "8383219e",
   "metadata": {},
   "outputs": [
    {
     "data": {
      "text/html": [
       "<div>\n",
       "<style scoped>\n",
       "    .dataframe tbody tr th:only-of-type {\n",
       "        vertical-align: middle;\n",
       "    }\n",
       "\n",
       "    .dataframe tbody tr th {\n",
       "        vertical-align: top;\n",
       "    }\n",
       "\n",
       "    .dataframe thead th {\n",
       "        text-align: right;\n",
       "    }\n",
       "</style>\n",
       "<table border=\"1\" class=\"dataframe\">\n",
       "  <thead>\n",
       "    <tr style=\"text-align: right;\">\n",
       "      <th></th>\n",
       "      <th>Models</th>\n",
       "      <th>Scalling Acurracy</th>\n",
       "      <th>Scalling Precision</th>\n",
       "    </tr>\n",
       "  </thead>\n",
       "  <tbody>\n",
       "    <tr>\n",
       "      <th>1</th>\n",
       "      <td>PERCEP</td>\n",
       "      <td>0.876854</td>\n",
       "      <td>1.000000</td>\n",
       "    </tr>\n",
       "    <tr>\n",
       "      <th>3</th>\n",
       "      <td>SVC</td>\n",
       "      <td>0.876854</td>\n",
       "      <td>1.000000</td>\n",
       "    </tr>\n",
       "    <tr>\n",
       "      <th>11</th>\n",
       "      <td>ETC</td>\n",
       "      <td>0.980658</td>\n",
       "      <td>0.987879</td>\n",
       "    </tr>\n",
       "    <tr>\n",
       "      <th>8</th>\n",
       "      <td>RF</td>\n",
       "      <td>0.972276</td>\n",
       "      <td>0.980519</td>\n",
       "    </tr>\n",
       "    <tr>\n",
       "      <th>5</th>\n",
       "      <td>NB</td>\n",
       "      <td>0.974855</td>\n",
       "      <td>0.963415</td>\n",
       "    </tr>\n",
       "    <tr>\n",
       "      <th>7</th>\n",
       "      <td>LR</td>\n",
       "      <td>0.964539</td>\n",
       "      <td>0.953333</td>\n",
       "    </tr>\n",
       "    <tr>\n",
       "      <th>13</th>\n",
       "      <td>xgb</td>\n",
       "      <td>0.969697</td>\n",
       "      <td>0.950000</td>\n",
       "    </tr>\n",
       "    <tr>\n",
       "      <th>2</th>\n",
       "      <td>HBC</td>\n",
       "      <td>0.974210</td>\n",
       "      <td>0.931429</td>\n",
       "    </tr>\n",
       "    <tr>\n",
       "      <th>12</th>\n",
       "      <td>GBDT</td>\n",
       "      <td>0.954868</td>\n",
       "      <td>0.911565</td>\n",
       "    </tr>\n",
       "    <tr>\n",
       "      <th>9</th>\n",
       "      <td>AdaBoost</td>\n",
       "      <td>0.959381</td>\n",
       "      <td>0.900000</td>\n",
       "    </tr>\n",
       "    <tr>\n",
       "      <th>10</th>\n",
       "      <td>BgC</td>\n",
       "      <td>0.958736</td>\n",
       "      <td>0.880240</td>\n",
       "    </tr>\n",
       "    <tr>\n",
       "      <th>6</th>\n",
       "      <td>DT</td>\n",
       "      <td>0.943262</td>\n",
       "      <td>0.875912</td>\n",
       "    </tr>\n",
       "    <tr>\n",
       "      <th>4</th>\n",
       "      <td>KN</td>\n",
       "      <td>0.895551</td>\n",
       "      <td>0.795918</td>\n",
       "    </tr>\n",
       "    <tr>\n",
       "      <th>0</th>\n",
       "      <td>LDA</td>\n",
       "      <td>0.905867</td>\n",
       "      <td>0.592593</td>\n",
       "    </tr>\n",
       "  </tbody>\n",
       "</table>\n",
       "</div>"
      ],
      "text/plain": [
       "      Models  Scalling Acurracy  Scalling Precision\n",
       "1     PERCEP           0.876854            1.000000\n",
       "3        SVC           0.876854            1.000000\n",
       "11       ETC           0.980658            0.987879\n",
       "8         RF           0.972276            0.980519\n",
       "5         NB           0.974855            0.963415\n",
       "7         LR           0.964539            0.953333\n",
       "13       xgb           0.969697            0.950000\n",
       "2        HBC           0.974210            0.931429\n",
       "12      GBDT           0.954868            0.911565\n",
       "9   AdaBoost           0.959381            0.900000\n",
       "10       BgC           0.958736            0.880240\n",
       "6         DT           0.943262            0.875912\n",
       "4         KN           0.895551            0.795918\n",
       "0        LDA           0.905867            0.592593"
      ]
     },
     "execution_count": 598,
     "metadata": {},
     "output_type": "execute_result"
    }
   ],
   "source": [
    "#click this cell to print Results of precision and accuracy using feature scalling with a count_of_charact column in our updated dataset\n",
    "Results_df2 = pd.DataFrame({'Models':Models.keys(),'Scalling Acurracy':accuracy_scores,'Scalling Precision':precision_scores}).sort_values('Scalling Precision',ascending=False)\n",
    "Results_df2"
   ]
  },
  {
   "cell_type": "code",
   "execution_count": 518,
   "id": "16fc3d21",
   "metadata": {},
   "outputs": [
    {
     "data": {
      "image/png": "[encoded data removed]",
      "text/plain": [
       "<Figure size 975.75x800 with 1 Axes>"
      ]
     },
     "metadata": {},
     "output_type": "display_data"
    }
   ],
   "source": [
    "##Lets Visualize the graph for the Results_df2\n",
    "Results_dfc = pd.melt(Results_df2, id_vars = \"Models\")\n",
    "sns.catplot(x = 'Models', y='value', \n",
    "               hue = 'variable',data=Results_dfc, kind='bar',height=8)\n",
    "plt.ylim(0.5,1.0)\n",
    "plt.xticks(rotation='vertical')\n",
    "plt.show()"
   ]
  },
  {
   "cell_type": "code",
   "execution_count": null,
   "id": "bf358217",
   "metadata": {},
   "outputs": [],
   "source": [
    "##In the above cells like Results_df, Results_df1 and Results_df2 will be run one after one time training is completed.\n",
    "## Like if you want to print marged all than you have to train the model 3 time one for simple precision, accuracy no limit of max_feature (Result_df).\n",
    "## Than Results_df1 for selecting max_features and \n",
    "## Results_df2 is for feature scalling"
   ]
  },
  {
   "cell_type": "markdown",
   "id": "75d0a460",
   "metadata": {},
   "source": [
    "# 7th_step: Precision and Accuracy of All Models"
   ]
  },
  {
   "cell_type": "code",
   "execution_count": 600,
   "id": "edfc312d",
   "metadata": {},
   "outputs": [
    {
     "data": {
      "text/html": [
       "<div>\n",
       "<style scoped>\n",
       "    .dataframe tbody tr th:only-of-type {\n",
       "        vertical-align: middle;\n",
       "    }\n",
       "\n",
       "    .dataframe tbody tr th {\n",
       "        vertical-align: top;\n",
       "    }\n",
       "\n",
       "    .dataframe thead th {\n",
       "        text-align: right;\n",
       "    }\n",
       "</style>\n",
       "<table border=\"1\" class=\"dataframe\">\n",
       "  <thead>\n",
       "    <tr style=\"text-align: right;\">\n",
       "      <th></th>\n",
       "      <th>Models</th>\n",
       "      <th>Accuracy</th>\n",
       "      <th>Precision</th>\n",
       "      <th>ON max feature 3000 acuraccy</th>\n",
       "      <th>ON max feature 3000 acuraccy Precision</th>\n",
       "      <th>Scalling Acurracy</th>\n",
       "      <th>Scalling Precision</th>\n",
       "    </tr>\n",
       "  </thead>\n",
       "  <tbody>\n",
       "    <tr>\n",
       "      <th>0</th>\n",
       "      <td>PERCEP</td>\n",
       "      <td>0.933591</td>\n",
       "      <td>1.000000</td>\n",
       "      <td>0.976789</td>\n",
       "      <td>0.910053</td>\n",
       "      <td>0.876854</td>\n",
       "      <td>1.000000</td>\n",
       "    </tr>\n",
       "    <tr>\n",
       "      <th>1</th>\n",
       "      <td>KN</td>\n",
       "      <td>0.903933</td>\n",
       "      <td>1.000000</td>\n",
       "      <td>0.909091</td>\n",
       "      <td>1.000000</td>\n",
       "      <td>0.895551</td>\n",
       "      <td>0.795918</td>\n",
       "    </tr>\n",
       "    <tr>\n",
       "      <th>2</th>\n",
       "      <td>NB</td>\n",
       "      <td>0.955513</td>\n",
       "      <td>1.000000</td>\n",
       "      <td>0.971631</td>\n",
       "      <td>1.000000</td>\n",
       "      <td>0.974855</td>\n",
       "      <td>0.963415</td>\n",
       "    </tr>\n",
       "    <tr>\n",
       "      <th>3</th>\n",
       "      <td>RF</td>\n",
       "      <td>0.972276</td>\n",
       "      <td>0.993333</td>\n",
       "      <td>0.972921</td>\n",
       "      <td>0.980645</td>\n",
       "      <td>0.972276</td>\n",
       "      <td>0.980519</td>\n",
       "    </tr>\n",
       "    <tr>\n",
       "      <th>4</th>\n",
       "      <td>ETC</td>\n",
       "      <td>0.977434</td>\n",
       "      <td>0.981481</td>\n",
       "      <td>0.977434</td>\n",
       "      <td>0.964286</td>\n",
       "      <td>0.980658</td>\n",
       "      <td>0.987879</td>\n",
       "    </tr>\n",
       "    <tr>\n",
       "      <th>5</th>\n",
       "      <td>SVC</td>\n",
       "      <td>0.974210</td>\n",
       "      <td>0.974843</td>\n",
       "      <td>0.974855</td>\n",
       "      <td>0.975000</td>\n",
       "      <td>0.876854</td>\n",
       "      <td>1.000000</td>\n",
       "    </tr>\n",
       "    <tr>\n",
       "      <th>6</th>\n",
       "      <td>AdaBoost</td>\n",
       "      <td>0.964539</td>\n",
       "      <td>0.930380</td>\n",
       "      <td>0.958736</td>\n",
       "      <td>0.915033</td>\n",
       "      <td>0.959381</td>\n",
       "      <td>0.900000</td>\n",
       "    </tr>\n",
       "    <tr>\n",
       "      <th>7</th>\n",
       "      <td>LR</td>\n",
       "      <td>0.949065</td>\n",
       "      <td>0.924242</td>\n",
       "      <td>0.952289</td>\n",
       "      <td>0.933333</td>\n",
       "      <td>0.964539</td>\n",
       "      <td>0.953333</td>\n",
       "    </tr>\n",
       "    <tr>\n",
       "      <th>8</th>\n",
       "      <td>HBC</td>\n",
       "      <td>0.972921</td>\n",
       "      <td>0.916201</td>\n",
       "      <td>0.971631</td>\n",
       "      <td>0.934911</td>\n",
       "      <td>0.974210</td>\n",
       "      <td>0.931429</td>\n",
       "    </tr>\n",
       "    <tr>\n",
       "      <th>9</th>\n",
       "      <td>xgb</td>\n",
       "      <td>0.964539</td>\n",
       "      <td>0.914634</td>\n",
       "      <td>0.964539</td>\n",
       "      <td>0.935897</td>\n",
       "      <td>0.969697</td>\n",
       "      <td>0.950000</td>\n",
       "    </tr>\n",
       "    <tr>\n",
       "      <th>10</th>\n",
       "      <td>GBDT</td>\n",
       "      <td>0.949710</td>\n",
       "      <td>0.889655</td>\n",
       "      <td>0.952289</td>\n",
       "      <td>0.939850</td>\n",
       "      <td>0.954868</td>\n",
       "      <td>0.911565</td>\n",
       "    </tr>\n",
       "    <tr>\n",
       "      <th>11</th>\n",
       "      <td>BgC</td>\n",
       "      <td>0.961315</td>\n",
       "      <td>0.865922</td>\n",
       "      <td>0.960026</td>\n",
       "      <td>0.864407</td>\n",
       "      <td>0.958736</td>\n",
       "      <td>0.880240</td>\n",
       "    </tr>\n",
       "    <tr>\n",
       "      <th>12</th>\n",
       "      <td>LDA</td>\n",
       "      <td>0.943907</td>\n",
       "      <td>0.846667</td>\n",
       "      <td>0.910380</td>\n",
       "      <td>0.607438</td>\n",
       "      <td>0.905867</td>\n",
       "      <td>0.592593</td>\n",
       "    </tr>\n",
       "    <tr>\n",
       "      <th>13</th>\n",
       "      <td>DT</td>\n",
       "      <td>0.938104</td>\n",
       "      <td>0.814570</td>\n",
       "      <td>0.935525</td>\n",
       "      <td>0.813793</td>\n",
       "      <td>0.943262</td>\n",
       "      <td>0.875912</td>\n",
       "    </tr>\n",
       "  </tbody>\n",
       "</table>\n",
       "</div>"
      ],
      "text/plain": [
       "      Models  Accuracy  Precision  ON max feature 3000 acuraccy  \\\n",
       "0     PERCEP  0.933591   1.000000                      0.976789   \n",
       "1         KN  0.903933   1.000000                      0.909091   \n",
       "2         NB  0.955513   1.000000                      0.971631   \n",
       "3         RF  0.972276   0.993333                      0.972921   \n",
       "4        ETC  0.977434   0.981481                      0.977434   \n",
       "5        SVC  0.974210   0.974843                      0.974855   \n",
       "6   AdaBoost  0.964539   0.930380                      0.958736   \n",
       "7         LR  0.949065   0.924242                      0.952289   \n",
       "8        HBC  0.972921   0.916201                      0.971631   \n",
       "9        xgb  0.964539   0.914634                      0.964539   \n",
       "10      GBDT  0.949710   0.889655                      0.952289   \n",
       "11       BgC  0.961315   0.865922                      0.960026   \n",
       "12       LDA  0.943907   0.846667                      0.910380   \n",
       "13        DT  0.938104   0.814570                      0.935525   \n",
       "\n",
       "    ON max feature 3000 acuraccy Precision  Scalling Acurracy  \\\n",
       "0                                 0.910053           0.876854   \n",
       "1                                 1.000000           0.895551   \n",
       "2                                 1.000000           0.974855   \n",
       "3                                 0.980645           0.972276   \n",
       "4                                 0.964286           0.980658   \n",
       "5                                 0.975000           0.876854   \n",
       "6                                 0.915033           0.959381   \n",
       "7                                 0.933333           0.964539   \n",
       "8                                 0.934911           0.974210   \n",
       "9                                 0.935897           0.969697   \n",
       "10                                0.939850           0.954868   \n",
       "11                                0.864407           0.958736   \n",
       "12                                0.607438           0.905867   \n",
       "13                                0.813793           0.943262   \n",
       "\n",
       "    Scalling Precision  \n",
       "0             1.000000  \n",
       "1             0.795918  \n",
       "2             0.963415  \n",
       "3             0.980519  \n",
       "4             0.987879  \n",
       "5             1.000000  \n",
       "6             0.900000  \n",
       "7             0.953333  \n",
       "8             0.931429  \n",
       "9             0.950000  \n",
       "10            0.911565  \n",
       "11            0.880240  \n",
       "12            0.592593  \n",
       "13            0.875912  "
      ]
     },
     "execution_count": 600,
     "metadata": {},
     "output_type": "execute_result"
    }
   ],
   "source": [
    "#Now Marging ALl the three Columns to see the acuuracy\n",
    "merged_All_df = merged_df.merge(Results_df2, on='Models')\n",
    "merged_All_df"
   ]
  },
  {
   "cell_type": "code",
   "execution_count": 601,
   "id": "93e27ebe",
   "metadata": {},
   "outputs": [],
   "source": [
    "#The data is umbalanced because the number of ham msg are larger in number than the spam msgs, so we will focus on precition value more than the accuracy.\n",
    "#In the above table there are some values which will be selected like (NB ==> acuraccy and precision in which max_features are 3000 cols),\n",
    "#And the other value is(RF==> acuraccy and precision column).\n",
    "#And the other value is (ETC==> in scalling Accuracy and Scalling Precision)"
   ]
  },
  {
   "cell_type": "code",
   "execution_count": 455,
   "id": "edc2e8ec",
   "metadata": {},
   "outputs": [],
   "source": [
    "##In the above cells like Results_df, Results_df1 and Results_df2 will be run one after one time training is completed.\n",
    "## Like if you want to print marged all than you have to train the model 3 time one for simple precision, accuracy no limit of max_feature (Result_df).\n",
    "## Than Results_df1 for selecting max_features and \n",
    "## Results_df2 is for feature scalling"
   ]
  },
  {
   "cell_type": "code",
   "execution_count": 608,
   "id": "48d99093",
   "metadata": {},
   "outputs": [],
   "source": [
    "##Now its time to do Feature tuning further in order to achive maximum accuracy and precision as much as possible.\n",
    "##Now select mnb,rfc and etc because these algorithm has more acciracy and precision as compared to the other models"
   ]
  },
  {
   "cell_type": "code",
   "execution_count": 603,
   "id": "b6bbb2c0",
   "metadata": {},
   "outputs": [],
   "source": [
    "# Voting Classifier\n",
    "mnb = MultinomialNB()\n",
    "rfc = RandomForestClassifier(n_estimators=50, random_state=2)\n",
    "etc = ExtraTreesClassifier(n_estimators=50, random_state=2)\n",
    "from sklearn.ensemble import VotingClassifier"
   ]
  },
  {
   "cell_type": "code",
   "execution_count": 604,
   "id": "29a59ae7",
   "metadata": {},
   "outputs": [],
   "source": [
    "voting = VotingClassifier(estimators=[('nb', mnb),('rfc', rfc),('ETC', etc)],voting='soft')"
   ]
  },
  {
   "cell_type": "code",
   "execution_count": 605,
   "id": "a2c7a7ca",
   "metadata": {},
   "outputs": [
    {
     "data": {
      "text/html": [
       "<style>#sk-container-id-1 {color: black;background-color: white;}#sk-container-id-1 pre{padding: 0;}#sk-container-id-1 div.sk-toggleable {background-color: white;}#sk-container-id-1 label.sk-toggleable__label {cursor: pointer;display: block;width: 100%;margin-bottom: 0;padding: 0.3em;box-sizing: border-box;text-align: center;}#sk-container-id-1 label.sk-toggleable__label-arrow:before {content: \"▸\";float: left;margin-right: 0.25em;color: #696969;}#sk-container-id-1 label.sk-toggleable__label-arrow:hover:before {color: black;}#sk-container-id-1 div.sk-estimator:hover label.sk-toggleable__label-arrow:before {color: black;}#sk-container-id-1 div.sk-toggleable__content {max-height: 0;max-width: 0;overflow: hidden;text-align: left;background-color: #f0f8ff;}#sk-container-id-1 div.sk-toggleable__content pre {margin: 0.2em;color: black;border-radius: 0.25em;background-color: #f0f8ff;}#sk-container-id-1 input.sk-toggleable__control:checked~div.sk-toggleable__content {max-height: 200px;max-width: 100%;overflow: auto;}#sk-container-id-1 input.sk-toggleable__control:checked~label.sk-toggleable__label-arrow:before {content: \"▾\";}#sk-container-id-1 div.sk-estimator input.sk-toggleable__control:checked~label.sk-toggleable__label {background-color: #d4ebff;}#sk-container-id-1 div.sk-label input.sk-toggleable__control:checked~label.sk-toggleable__label {background-color: #d4ebff;}#sk-container-id-1 input.sk-hidden--visually {border: 0;clip: rect(1px 1px 1px 1px);clip: rect(1px, 1px, 1px, 1px);height: 1px;margin: -1px;overflow: hidden;padding: 0;position: absolute;width: 1px;}#sk-container-id-1 div.sk-estimator {font-family: monospace;background-color: #f0f8ff;border: 1px dotted black;border-radius: 0.25em;box-sizing: border-box;margin-bottom: 0.5em;}#sk-container-id-1 div.sk-estimator:hover {background-color: #d4ebff;}#sk-container-id-1 div.sk-parallel-item::after {content: \"\";width: 100%;border-bottom: 1px solid gray;flex-grow: 1;}#sk-container-id-1 div.sk-label:hover label.sk-toggleable__label {background-color: #d4ebff;}#sk-container-id-1 div.sk-serial::before {content: \"\";position: absolute;border-left: 1px solid gray;box-sizing: border-box;top: 0;bottom: 0;left: 50%;z-index: 0;}#sk-container-id-1 div.sk-serial {display: flex;flex-direction: column;align-items: center;background-color: white;padding-right: 0.2em;padding-left: 0.2em;position: relative;}#sk-container-id-1 div.sk-item {position: relative;z-index: 1;}#sk-container-id-1 div.sk-parallel {display: flex;align-items: stretch;justify-content: center;background-color: white;position: relative;}#sk-container-id-1 div.sk-item::before, #sk-container-id-1 div.sk-parallel-item::before {content: \"\";position: absolute;border-left: 1px solid gray;box-sizing: border-box;top: 0;bottom: 0;left: 50%;z-index: -1;}#sk-container-id-1 div.sk-parallel-item {display: flex;flex-direction: column;z-index: 1;position: relative;background-color: white;}#sk-container-id-1 div.sk-parallel-item:first-child::after {align-self: flex-end;width: 50%;}#sk-container-id-1 div.sk-parallel-item:last-child::after {align-self: flex-start;width: 50%;}#sk-container-id-1 div.sk-parallel-item:only-child::after {width: 0;}#sk-container-id-1 div.sk-dashed-wrapped {border: 1px dashed gray;margin: 0 0.4em 0.5em 0.4em;box-sizing: border-box;padding-bottom: 0.4em;background-color: white;}#sk-container-id-1 div.sk-label label {font-family: monospace;font-weight: bold;display: inline-block;line-height: 1.2em;}#sk-container-id-1 div.sk-label-container {text-align: center;}#sk-container-id-1 div.sk-container {/* jupyter's `normalize.less` sets `[hidden] { display: none; }` but bootstrap.min.css set `[hidden] { display: none !important; }` so we also need the `!important` here to be able to override the default hidden behavior on the sphinx rendered scikit-learn.org. See: https://github.com/scikit-learn/scikit-learn/issues/21755 */display: inline-block !important;position: relative;}#sk-container-id-1 div.sk-text-repr-fallback {display: none;}</style><div id=\"sk-container-id-1\" class=\"sk-top-container\"><div class=\"sk-text-repr-fallback\"><pre>VotingClassifier(estimators=[(&#x27;nb&#x27;, MultinomialNB()),\n",
       "                             (&#x27;rfc&#x27;,\n",
       "                              RandomForestClassifier(n_estimators=50,\n",
       "                                                     random_state=2)),\n",
       "                             (&#x27;ETC&#x27;,\n",
       "                              ExtraTreesClassifier(n_estimators=50,\n",
       "                                                   random_state=2))],\n",
       "                 voting=&#x27;soft&#x27;)</pre><b>In a Jupyter environment, please rerun this cell to show the HTML representation or trust the notebook. <br />On GitHub, the HTML representation is unable to render, please try loading this page with nbviewer.org.</b></div><div class=\"sk-container\" hidden><div class=\"sk-item sk-dashed-wrapped\"><div class=\"sk-label-container\"><div class=\"sk-label sk-toggleable\"><input class=\"sk-toggleable__control sk-hidden--visually\" id=\"sk-estimator-id-1\" type=\"checkbox\" ><label for=\"sk-estimator-id-1\" class=\"sk-toggleable__label sk-toggleable__label-arrow\">VotingClassifier</label><div class=\"sk-toggleable__content\"><pre>VotingClassifier(estimators=[(&#x27;nb&#x27;, MultinomialNB()),\n",
       "                             (&#x27;rfc&#x27;,\n",
       "                              RandomForestClassifier(n_estimators=50,\n",
       "                                                     random_state=2)),\n",
       "                             (&#x27;ETC&#x27;,\n",
       "                              ExtraTreesClassifier(n_estimators=50,\n",
       "                                                   random_state=2))],\n",
       "                 voting=&#x27;soft&#x27;)</pre></div></div></div><div class=\"sk-parallel\"><div class=\"sk-parallel-item\"><div class=\"sk-item\"><div class=\"sk-label-container\"><div class=\"sk-label sk-toggleable\"><label>nb</label></div></div><div class=\"sk-serial\"><div class=\"sk-item\"><div class=\"sk-estimator sk-toggleable\"><input class=\"sk-toggleable__control sk-hidden--visually\" id=\"sk-estimator-id-2\" type=\"checkbox\" ><label for=\"sk-estimator-id-2\" class=\"sk-toggleable__label sk-toggleable__label-arrow\">MultinomialNB</label><div class=\"sk-toggleable__content\"><pre>MultinomialNB()</pre></div></div></div></div></div></div><div class=\"sk-parallel-item\"><div class=\"sk-item\"><div class=\"sk-label-container\"><div class=\"sk-label sk-toggleable\"><label>rfc</label></div></div><div class=\"sk-serial\"><div class=\"sk-item\"><div class=\"sk-estimator sk-toggleable\"><input class=\"sk-toggleable__control sk-hidden--visually\" id=\"sk-estimator-id-3\" type=\"checkbox\" ><label for=\"sk-estimator-id-3\" class=\"sk-toggleable__label sk-toggleable__label-arrow\">RandomForestClassifier</label><div class=\"sk-toggleable__content\"><pre>RandomForestClassifier(n_estimators=50, random_state=2)</pre></div></div></div></div></div></div><div class=\"sk-parallel-item\"><div class=\"sk-item\"><div class=\"sk-label-container\"><div class=\"sk-label sk-toggleable\"><label>ETC</label></div></div><div class=\"sk-serial\"><div class=\"sk-item\"><div class=\"sk-estimator sk-toggleable\"><input class=\"sk-toggleable__control sk-hidden--visually\" id=\"sk-estimator-id-4\" type=\"checkbox\" ><label for=\"sk-estimator-id-4\" class=\"sk-toggleable__label sk-toggleable__label-arrow\">ExtraTreesClassifier</label><div class=\"sk-toggleable__content\"><pre>ExtraTreesClassifier(n_estimators=50, random_state=2)</pre></div></div></div></div></div></div></div></div></div></div>"
      ],
      "text/plain": [
       "VotingClassifier(estimators=[('nb', MultinomialNB()),\n",
       "                             ('rfc',\n",
       "                              RandomForestClassifier(n_estimators=50,\n",
       "                                                     random_state=2)),\n",
       "                             ('ETC',\n",
       "                              ExtraTreesClassifier(n_estimators=50,\n",
       "                                                   random_state=2))],\n",
       "                 voting='soft')"
      ]
     },
     "execution_count": 605,
     "metadata": {},
     "output_type": "execute_result"
    }
   ],
   "source": [
    "voting.fit(X_train,y_train)"
   ]
  },
  {
   "cell_type": "code",
   "execution_count": 606,
   "id": "de4c0dc0",
   "metadata": {},
   "outputs": [
    {
     "name": "stdout",
     "output_type": "stream",
     "text": [
      "Accuracy 0.9806576402321083\n",
      "Precision 1.0\n"
     ]
    }
   ],
   "source": [
    "y_pred = voting.predict(X_test)\n",
    "print(\"Accuracy\",accuracy_score(y_test,y_pred))\n",
    "print(\"Precision\",precision_score(y_test,y_pred))"
   ]
  },
  {
   "cell_type": "code",
   "execution_count": 609,
   "id": "7d0669f4",
   "metadata": {},
   "outputs": [],
   "source": [
    "# Applying stacking\n",
    "estimators=[('nb', mnb),('rfc', rfc),('ETC', etc)]\n",
    "final_estimator=RandomForestClassifier()"
   ]
  },
  {
   "cell_type": "code",
   "execution_count": 610,
   "id": "6197762e",
   "metadata": {},
   "outputs": [
    {
     "name": "stdout",
     "output_type": "stream",
     "text": [
      "Accuracy 0.9825918762088974\n",
      "Precision 0.9505494505494505\n"
     ]
    }
   ],
   "source": [
    "from sklearn.ensemble import StackingClassifier\n",
    "clf = StackingClassifier(estimators=estimators, final_estimator=final_estimator)\n",
    "clf.fit(X_train,y_train)\n",
    "y_pred = clf.predict(X_test)\n",
    "print(\"Accuracy\",accuracy_score(y_test,y_pred))\n",
    "print(\"Precision\",precision_score(y_test,y_pred))"
   ]
  },
  {
   "cell_type": "code",
   "execution_count": 611,
   "id": "7d6a003d",
   "metadata": {},
   "outputs": [],
   "source": [
    "###So We will select mnb classifier because it give us a better accuracy and better precision value########"
   ]
  },
  {
   "cell_type": "markdown",
   "id": "a1607619",
   "metadata": {},
   "source": [
    "# 8th_step: Towards Deployement"
   ]
  },
  {
   "cell_type": "code",
   "execution_count": 613,
   "id": "9c8cf029",
   "metadata": {},
   "outputs": [],
   "source": [
    "#From here the deployment step is started, first we are going to make the files###\n",
    "import pickle\n",
    "pickle.dump(tfidf,open('vectorizer_file.pkl','wb'))\n",
    "pickle.dump(mnb,open('model_file.pkl','wb'))"
   ]
  },
  {
   "cell_type": "code",
   "execution_count": null,
   "id": "d7792365",
   "metadata": {},
   "outputs": [],
   "source": []
  }
 ],
 "metadata": {
  "kernelspec": {
   "display_name": "Python 3 (ipykernel)",
   "language": "python",
   "name": "python3"
  },
  "language_info": {
   "codemirror_mode": {
    "name": "ipython",
    "version": 3
   },
   "file_extension": ".py",
   "mimetype": "text/x-python",
   "name": "python",
   "nbconvert_exporter": "python",
   "pygments_lexer": "ipython3",
   "version": "3.11.3"
  }
 },
 "nbformat": 4,
 "nbformat_minor": 5
}
